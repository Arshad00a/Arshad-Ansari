{
 "cells": [
  {
   "cell_type": "code",
   "execution_count": 2,
   "metadata": {},
   "outputs": [],
   "source": [
    "import pandas as pd\n",
    "import numpy as np\n",
    "import seaborn as sns"
   ]
  },
  {
   "cell_type": "code",
   "execution_count": 790,
   "metadata": {},
   "outputs": [],
   "source": [
    "Student_List=pd.read_csv(r'C:\\Users\\arshad\\Downloads\\Python Assingment 3\\Prob1\\studentlist.csv')"
   ]
  },
  {
   "cell_type": "code",
   "execution_count": 791,
   "metadata": {},
   "outputs": [
    {
     "data": {
      "text/html": [
       "<div>\n",
       "<style scoped>\n",
       "    .dataframe tbody tr th:only-of-type {\n",
       "        vertical-align: middle;\n",
       "    }\n",
       "\n",
       "    .dataframe tbody tr th {\n",
       "        vertical-align: top;\n",
       "    }\n",
       "\n",
       "    .dataframe thead th {\n",
       "        text-align: right;\n",
       "    }\n",
       "</style>\n",
       "<table border=\"1\" class=\"dataframe\">\n",
       "  <thead>\n",
       "    <tr style=\"text-align: right;\">\n",
       "      <th></th>\n",
       "      <th>enrollmentnumber</th>\n",
       "      <th>admn</th>\n",
       "      <th>studentname</th>\n",
       "      <th>studentEmail</th>\n",
       "    </tr>\n",
       "  </thead>\n",
       "  <tbody>\n",
       "    <tr>\n",
       "      <td>0</td>\n",
       "      <td>1613101016</td>\n",
       "      <td>16SCSE101757</td>\n",
       "      <td>AAYUSH  TYAGI</td>\n",
       "      <td>NaN</td>\n",
       "    </tr>\n",
       "    <tr>\n",
       "      <td>1</td>\n",
       "      <td>1613101026</td>\n",
       "      <td>16SCSE101415</td>\n",
       "      <td>ABHISHEK</td>\n",
       "      <td>NaN</td>\n",
       "    </tr>\n",
       "    <tr>\n",
       "      <td>2</td>\n",
       "      <td>1613101051</td>\n",
       "      <td>16SCSE101222</td>\n",
       "      <td>ADITI  SINGH</td>\n",
       "      <td>NaN</td>\n",
       "    </tr>\n",
       "    <tr>\n",
       "      <td>3</td>\n",
       "      <td>1613101054</td>\n",
       "      <td>16SCSE101220</td>\n",
       "      <td>ADITYA  MANKAR</td>\n",
       "      <td>NaN</td>\n",
       "    </tr>\n",
       "    <tr>\n",
       "      <td>4</td>\n",
       "      <td>1613101079</td>\n",
       "      <td>16SCSE101085</td>\n",
       "      <td>AKASH  KANSAL</td>\n",
       "      <td>NaN</td>\n",
       "    </tr>\n",
       "    <tr>\n",
       "      <td>...</td>\n",
       "      <td>...</td>\n",
       "      <td>...</td>\n",
       "      <td>...</td>\n",
       "      <td>...</td>\n",
       "    </tr>\n",
       "    <tr>\n",
       "      <td>1012</td>\n",
       "      <td>1613106007</td>\n",
       "      <td>16SCSE106008</td>\n",
       "      <td>PARTH  SHUKLA</td>\n",
       "      <td>NaN</td>\n",
       "    </tr>\n",
       "    <tr>\n",
       "      <td>1013</td>\n",
       "      <td>1613106009</td>\n",
       "      <td>16SCSE106003</td>\n",
       "      <td>ROBIN  SHARMA</td>\n",
       "      <td>NaN</td>\n",
       "    </tr>\n",
       "    <tr>\n",
       "      <td>1014</td>\n",
       "      <td>1613106010</td>\n",
       "      <td>16SCSE106005</td>\n",
       "      <td>SHITIKANT  PRIYANSHU</td>\n",
       "      <td>NaN</td>\n",
       "    </tr>\n",
       "    <tr>\n",
       "      <td>1015</td>\n",
       "      <td>1613106011</td>\n",
       "      <td>16SCSE106013</td>\n",
       "      <td>SHREYANSH  KUMAR</td>\n",
       "      <td>NaN</td>\n",
       "    </tr>\n",
       "    <tr>\n",
       "      <td>1016</td>\n",
       "      <td>1613106013</td>\n",
       "      <td>16SCSE106012</td>\n",
       "      <td>SWARNIM  TRIPATHI</td>\n",
       "      <td>NaN</td>\n",
       "    </tr>\n",
       "  </tbody>\n",
       "</table>\n",
       "<p>1017 rows × 4 columns</p>\n",
       "</div>"
      ],
      "text/plain": [
       "      enrollmentnumber          admn           studentname  studentEmail\n",
       "0           1613101016  16SCSE101757         AAYUSH  TYAGI           NaN\n",
       "1           1613101026  16SCSE101415              ABHISHEK           NaN\n",
       "2           1613101051  16SCSE101222          ADITI  SINGH           NaN\n",
       "3           1613101054  16SCSE101220        ADITYA  MANKAR           NaN\n",
       "4           1613101079  16SCSE101085         AKASH  KANSAL           NaN\n",
       "...                ...           ...                   ...           ...\n",
       "1012        1613106007  16SCSE106008         PARTH  SHUKLA           NaN\n",
       "1013        1613106009  16SCSE106003         ROBIN  SHARMA           NaN\n",
       "1014        1613106010  16SCSE106005  SHITIKANT  PRIYANSHU           NaN\n",
       "1015        1613106011  16SCSE106013      SHREYANSH  KUMAR           NaN\n",
       "1016        1613106013  16SCSE106012     SWARNIM  TRIPATHI           NaN\n",
       "\n",
       "[1017 rows x 4 columns]"
      ]
     },
     "execution_count": 791,
     "metadata": {},
     "output_type": "execute_result"
    }
   ],
   "source": [
    "Student_List"
   ]
  },
  {
   "cell_type": "code",
   "execution_count": 792,
   "metadata": {},
   "outputs": [
    {
     "data": {
      "text/html": [
       "<div>\n",
       "<style scoped>\n",
       "    .dataframe tbody tr th:only-of-type {\n",
       "        vertical-align: middle;\n",
       "    }\n",
       "\n",
       "    .dataframe tbody tr th {\n",
       "        vertical-align: top;\n",
       "    }\n",
       "\n",
       "    .dataframe thead th {\n",
       "        text-align: right;\n",
       "    }\n",
       "</style>\n",
       "<table border=\"1\" class=\"dataframe\">\n",
       "  <thead>\n",
       "    <tr style=\"text-align: right;\">\n",
       "      <th></th>\n",
       "      <th>studentname</th>\n",
       "    </tr>\n",
       "  </thead>\n",
       "  <tbody>\n",
       "    <tr>\n",
       "      <td>0</td>\n",
       "      <td>AAYUSH  TYAGI</td>\n",
       "    </tr>\n",
       "    <tr>\n",
       "      <td>1</td>\n",
       "      <td>ABHISHEK</td>\n",
       "    </tr>\n",
       "    <tr>\n",
       "      <td>2</td>\n",
       "      <td>ADITI  SINGH</td>\n",
       "    </tr>\n",
       "    <tr>\n",
       "      <td>3</td>\n",
       "      <td>ADITYA  MANKAR</td>\n",
       "    </tr>\n",
       "    <tr>\n",
       "      <td>4</td>\n",
       "      <td>AKASH  KANSAL</td>\n",
       "    </tr>\n",
       "    <tr>\n",
       "      <td>...</td>\n",
       "      <td>...</td>\n",
       "    </tr>\n",
       "    <tr>\n",
       "      <td>1012</td>\n",
       "      <td>PARTH  SHUKLA</td>\n",
       "    </tr>\n",
       "    <tr>\n",
       "      <td>1013</td>\n",
       "      <td>ROBIN  SHARMA</td>\n",
       "    </tr>\n",
       "    <tr>\n",
       "      <td>1014</td>\n",
       "      <td>SHITIKANT  PRIYANSHU</td>\n",
       "    </tr>\n",
       "    <tr>\n",
       "      <td>1015</td>\n",
       "      <td>SHREYANSH  KUMAR</td>\n",
       "    </tr>\n",
       "    <tr>\n",
       "      <td>1016</td>\n",
       "      <td>SWARNIM  TRIPATHI</td>\n",
       "    </tr>\n",
       "  </tbody>\n",
       "</table>\n",
       "<p>1017 rows × 1 columns</p>\n",
       "</div>"
      ],
      "text/plain": [
       "               studentname\n",
       "0            AAYUSH  TYAGI\n",
       "1                 ABHISHEK\n",
       "2             ADITI  SINGH\n",
       "3           ADITYA  MANKAR\n",
       "4            AKASH  KANSAL\n",
       "...                    ...\n",
       "1012         PARTH  SHUKLA\n",
       "1013         ROBIN  SHARMA\n",
       "1014  SHITIKANT  PRIYANSHU\n",
       "1015      SHREYANSH  KUMAR\n",
       "1016     SWARNIM  TRIPATHI\n",
       "\n",
       "[1017 rows x 1 columns]"
      ]
     },
     "execution_count": 792,
     "metadata": {},
     "output_type": "execute_result"
    }
   ],
   "source": [
    "Student_List.drop(columns=['studentEmail','enrollmentnumber','admn'])"
   ]
  },
  {
   "cell_type": "markdown",
   "metadata": {},
   "source": [
    "__Reading folder Batchwise list with contain multiple csv file and appending it all in a single dataframe__"
   ]
  },
  {
   "cell_type": "code",
   "execution_count": 793,
   "metadata": {},
   "outputs": [
    {
     "name": "stdout",
     "output_type": "stream",
     "text": [
      "['1.csv', '10.csv', '11.csv', '12.csv', '13.csv', '14.csv', '15.csv', '16.csv', '17.csv', '18.csv', '19.csv', '2.csv', '3.csv', '4.csv', '5.csv', '6.csv', '7.csv', '8.csv', '9.csv']\n"
     ]
    },
    {
     "data": {
      "text/html": [
       "<div>\n",
       "<style scoped>\n",
       "    .dataframe tbody tr th:only-of-type {\n",
       "        vertical-align: middle;\n",
       "    }\n",
       "\n",
       "    .dataframe tbody tr th {\n",
       "        vertical-align: top;\n",
       "    }\n",
       "\n",
       "    .dataframe thead th {\n",
       "        text-align: right;\n",
       "    }\n",
       "</style>\n",
       "<table border=\"1\" class=\"dataframe\">\n",
       "  <thead>\n",
       "    <tr style=\"text-align: right;\">\n",
       "      <th></th>\n",
       "      <th>Unnamed: 0</th>\n",
       "      <th>srNo</th>\n",
       "      <th>enrollmentNumber</th>\n",
       "      <th>admissionNumber</th>\n",
       "      <th>studentName</th>\n",
       "    </tr>\n",
       "  </thead>\n",
       "  <tbody>\n",
       "    <tr>\n",
       "      <td>0</td>\n",
       "      <td>0</td>\n",
       "      <td>1</td>\n",
       "      <td>1613101016</td>\n",
       "      <td>16SCSE101757</td>\n",
       "      <td>AAYUSH  TYAGI</td>\n",
       "    </tr>\n",
       "    <tr>\n",
       "      <td>1</td>\n",
       "      <td>1</td>\n",
       "      <td>2</td>\n",
       "      <td>1613101026</td>\n",
       "      <td>16SCSE101415</td>\n",
       "      <td>ABHISHEK</td>\n",
       "    </tr>\n",
       "    <tr>\n",
       "      <td>2</td>\n",
       "      <td>2</td>\n",
       "      <td>3</td>\n",
       "      <td>1613101051</td>\n",
       "      <td>16SCSE101222</td>\n",
       "      <td>ADITI  SINGH</td>\n",
       "    </tr>\n",
       "    <tr>\n",
       "      <td>3</td>\n",
       "      <td>3</td>\n",
       "      <td>4</td>\n",
       "      <td>1613101054</td>\n",
       "      <td>16SCSE101220</td>\n",
       "      <td>ADITYA  MANKAR</td>\n",
       "    </tr>\n",
       "    <tr>\n",
       "      <td>4</td>\n",
       "      <td>4</td>\n",
       "      <td>5</td>\n",
       "      <td>1613101079</td>\n",
       "      <td>16SCSE101085</td>\n",
       "      <td>AKASH  KANSAL</td>\n",
       "    </tr>\n",
       "    <tr>\n",
       "      <td>...</td>\n",
       "      <td>...</td>\n",
       "      <td>...</td>\n",
       "      <td>...</td>\n",
       "      <td>...</td>\n",
       "      <td>...</td>\n",
       "    </tr>\n",
       "    <tr>\n",
       "      <td>1012</td>\n",
       "      <td>38</td>\n",
       "      <td>39</td>\n",
       "      <td>1613101745</td>\n",
       "      <td>16SCSE101653</td>\n",
       "      <td>SONU  KUMAR</td>\n",
       "    </tr>\n",
       "    <tr>\n",
       "      <td>1013</td>\n",
       "      <td>39</td>\n",
       "      <td>40</td>\n",
       "      <td>1613101811</td>\n",
       "      <td>16SCSE101452</td>\n",
       "      <td>VARUN</td>\n",
       "    </tr>\n",
       "    <tr>\n",
       "      <td>1014</td>\n",
       "      <td>40</td>\n",
       "      <td>41</td>\n",
       "      <td>1613101831</td>\n",
       "      <td>16SCSE101756</td>\n",
       "      <td>VISHAL  AGRAHARI</td>\n",
       "    </tr>\n",
       "    <tr>\n",
       "      <td>1015</td>\n",
       "      <td>41</td>\n",
       "      <td>42</td>\n",
       "      <td>1613101845</td>\n",
       "      <td>16SCSE101021</td>\n",
       "      <td>VISHAL KUMAR PRAJAPATI</td>\n",
       "    </tr>\n",
       "    <tr>\n",
       "      <td>1016</td>\n",
       "      <td>42</td>\n",
       "      <td>43</td>\n",
       "      <td>1513101236</td>\n",
       "      <td>15SCSE101249</td>\n",
       "      <td>ZAYA ALISHAN ANSARI</td>\n",
       "    </tr>\n",
       "  </tbody>\n",
       "</table>\n",
       "<p>1017 rows × 5 columns</p>\n",
       "</div>"
      ],
      "text/plain": [
       "      Unnamed: 0  srNo  enrollmentNumber admissionNumber  \\\n",
       "0              0     1        1613101016    16SCSE101757   \n",
       "1              1     2        1613101026    16SCSE101415   \n",
       "2              2     3        1613101051    16SCSE101222   \n",
       "3              3     4        1613101054    16SCSE101220   \n",
       "4              4     5        1613101079    16SCSE101085   \n",
       "...          ...   ...               ...             ...   \n",
       "1012          38    39        1613101745    16SCSE101653   \n",
       "1013          39    40        1613101811    16SCSE101452   \n",
       "1014          40    41        1613101831    16SCSE101756   \n",
       "1015          41    42        1613101845    16SCSE101021   \n",
       "1016          42    43        1513101236    15SCSE101249   \n",
       "\n",
       "                 studentName  \n",
       "0              AAYUSH  TYAGI  \n",
       "1                   ABHISHEK  \n",
       "2               ADITI  SINGH  \n",
       "3             ADITYA  MANKAR  \n",
       "4              AKASH  KANSAL  \n",
       "...                      ...  \n",
       "1012             SONU  KUMAR  \n",
       "1013                   VARUN  \n",
       "1014        VISHAL  AGRAHARI  \n",
       "1015  VISHAL KUMAR PRAJAPATI  \n",
       "1016     ZAYA ALISHAN ANSARI  \n",
       "\n",
       "[1017 rows x 5 columns]"
      ]
     },
     "execution_count": 793,
     "metadata": {},
     "output_type": "execute_result"
    }
   ],
   "source": [
    "import os,sys\n",
    "\n",
    "path=r\"C:\\Users\\arshad\\Downloads\\Python Assingment 3\\Prob1\\batchwiselist\"\n",
    "dirs=os.listdir(path)\n",
    "\n",
    "print(dirs)\n",
    "\n",
    "filepath=[]\n",
    "for file in dirs:\n",
    "    #print(\"Filename\",file)\n",
    "    \n",
    "    p=path+ \"/\" +file\n",
    "    df_csv = pd.read_csv(p)\n",
    "    #print(df.shape,\"\\n \\n\")\n",
    "    \n",
    "    filepath.append(df_csv)\n",
    "                \n",
    "\n",
    "batchwiselist = pd.concat(filepath, axis=0, ignore_index=True)\n",
    "               \n",
    "batchwiselist\n",
    "                "
   ]
  },
  {
   "cell_type": "markdown",
   "metadata": {},
   "source": [
    "__Reading Quiz1 CSV file__"
   ]
  },
  {
   "cell_type": "code",
   "execution_count": 794,
   "metadata": {},
   "outputs": [
    {
     "data": {
      "text/html": [
       "<div>\n",
       "<style scoped>\n",
       "    .dataframe tbody tr th:only-of-type {\n",
       "        vertical-align: middle;\n",
       "    }\n",
       "\n",
       "    .dataframe tbody tr th {\n",
       "        vertical-align: top;\n",
       "    }\n",
       "\n",
       "    .dataframe thead th {\n",
       "        text-align: right;\n",
       "    }\n",
       "</style>\n",
       "<table border=\"1\" class=\"dataframe\">\n",
       "  <thead>\n",
       "    <tr style=\"text-align: right;\">\n",
       "      <th></th>\n",
       "      <th>Surname</th>\n",
       "      <th>Firstname</th>\n",
       "      <th>ID number</th>\n",
       "      <th>Institution</th>\n",
       "      <th>Department</th>\n",
       "      <th>Email address</th>\n",
       "      <th>State</th>\n",
       "      <th>Started on</th>\n",
       "      <th>Completed</th>\n",
       "      <th>Time taken</th>\n",
       "      <th>Grade/10.00</th>\n",
       "    </tr>\n",
       "  </thead>\n",
       "  <tbody>\n",
       "    <tr>\n",
       "      <td>0</td>\n",
       "      <td>16BTCSES11</td>\n",
       "      <td>SIDDHANT  GUPTA</td>\n",
       "      <td>NaN</td>\n",
       "      <td>NaN</td>\n",
       "      <td>NaN</td>\n",
       "      <td>NaN</td>\n",
       "      <td>Finished</td>\n",
       "      <td>08-02-2019 09:57</td>\n",
       "      <td>08-02-2019 10:11</td>\n",
       "      <td>14 mins 1 sec</td>\n",
       "      <td>4</td>\n",
       "    </tr>\n",
       "    <tr>\n",
       "      <td>1</td>\n",
       "      <td>16BTCSES11</td>\n",
       "      <td>ARPIT  SHARMA</td>\n",
       "      <td>NaN</td>\n",
       "      <td>NaN</td>\n",
       "      <td>NaN</td>\n",
       "      <td>NaN</td>\n",
       "      <td>Finished</td>\n",
       "      <td>08-02-2019 09:57</td>\n",
       "      <td>08-02-2019 10:11</td>\n",
       "      <td>14 mins 5 secs</td>\n",
       "      <td>5</td>\n",
       "    </tr>\n",
       "    <tr>\n",
       "      <td>2</td>\n",
       "      <td>16BTCSES11</td>\n",
       "      <td>VISHAL  SINGH</td>\n",
       "      <td>NaN</td>\n",
       "      <td>NaN</td>\n",
       "      <td>NaN</td>\n",
       "      <td>NaN</td>\n",
       "      <td>Finished</td>\n",
       "      <td>08-02-2019 09:57</td>\n",
       "      <td>14-02-2019 10:10</td>\n",
       "      <td>6 days</td>\n",
       "      <td>7</td>\n",
       "    </tr>\n",
       "    <tr>\n",
       "      <td>3</td>\n",
       "      <td>16BTCSES11</td>\n",
       "      <td>AKASH  YADAV</td>\n",
       "      <td>NaN</td>\n",
       "      <td>NaN</td>\n",
       "      <td>NaN</td>\n",
       "      <td>NaN</td>\n",
       "      <td>Finished</td>\n",
       "      <td>08-02-2019 09:57</td>\n",
       "      <td>14-02-2019 12:03</td>\n",
       "      <td>6 days 2 hours</td>\n",
       "      <td>9</td>\n",
       "    </tr>\n",
       "    <tr>\n",
       "      <td>4</td>\n",
       "      <td>16BTCSES11</td>\n",
       "      <td>MANISH  SAHANI</td>\n",
       "      <td>NaN</td>\n",
       "      <td>NaN</td>\n",
       "      <td>NaN</td>\n",
       "      <td>NaN</td>\n",
       "      <td>Finished</td>\n",
       "      <td>08-02-2019 09:57</td>\n",
       "      <td>08-02-2019 23:09</td>\n",
       "      <td>13 hours 11 mins</td>\n",
       "      <td>7</td>\n",
       "    </tr>\n",
       "    <tr>\n",
       "      <td>...</td>\n",
       "      <td>...</td>\n",
       "      <td>...</td>\n",
       "      <td>...</td>\n",
       "      <td>...</td>\n",
       "      <td>...</td>\n",
       "      <td>...</td>\n",
       "      <td>...</td>\n",
       "      <td>...</td>\n",
       "      <td>...</td>\n",
       "      <td>...</td>\n",
       "      <td>...</td>\n",
       "    </tr>\n",
       "    <tr>\n",
       "      <td>655</td>\n",
       "      <td>16BTCSES8</td>\n",
       "      <td>ADITYA PRATAP SINGH</td>\n",
       "      <td>NaN</td>\n",
       "      <td>NaN</td>\n",
       "      <td>NaN</td>\n",
       "      <td>NaN</td>\n",
       "      <td>Finished</td>\n",
       "      <td>06-03-2019 07:10</td>\n",
       "      <td>06-03-2019 07:18</td>\n",
       "      <td>7 mins 16 secs</td>\n",
       "      <td>2</td>\n",
       "    </tr>\n",
       "    <tr>\n",
       "      <td>656</td>\n",
       "      <td>16BTCSES4</td>\n",
       "      <td>Ankita  Singh</td>\n",
       "      <td>NaN</td>\n",
       "      <td>NaN</td>\n",
       "      <td>NaN</td>\n",
       "      <td>NaN</td>\n",
       "      <td>Finished</td>\n",
       "      <td>06-03-2019 07:49</td>\n",
       "      <td>06-03-2019 07:51</td>\n",
       "      <td>2 mins 22 secs</td>\n",
       "      <td>2</td>\n",
       "    </tr>\n",
       "    <tr>\n",
       "      <td>657</td>\n",
       "      <td>16BTCSES2</td>\n",
       "      <td>UTTAM  KUMAR</td>\n",
       "      <td>NaN</td>\n",
       "      <td>NaN</td>\n",
       "      <td>NaN</td>\n",
       "      <td>uttamkumar@galgotiasuniversity.edu.in</td>\n",
       "      <td>Finished</td>\n",
       "      <td>06-03-2019 07:58</td>\n",
       "      <td>06-03-2019 08:14</td>\n",
       "      <td>16 mins 12 secs</td>\n",
       "      <td>4</td>\n",
       "    </tr>\n",
       "    <tr>\n",
       "      <td>658</td>\n",
       "      <td>16BTCSES8</td>\n",
       "      <td>SHREY  JAIN</td>\n",
       "      <td>NaN</td>\n",
       "      <td>NaN</td>\n",
       "      <td>NaN</td>\n",
       "      <td>shrey.jain@galgotiasuniversity.edu.in</td>\n",
       "      <td>Finished</td>\n",
       "      <td>06-03-2019 08:05</td>\n",
       "      <td>06-03-2019 08:10</td>\n",
       "      <td>5 mins 23 secs</td>\n",
       "      <td>4</td>\n",
       "    </tr>\n",
       "    <tr>\n",
       "      <td>659</td>\n",
       "      <td>Overall average</td>\n",
       "      <td>NaN</td>\n",
       "      <td>NaN</td>\n",
       "      <td>NaN</td>\n",
       "      <td>NaN</td>\n",
       "      <td>NaN</td>\n",
       "      <td>NaN</td>\n",
       "      <td>NaN</td>\n",
       "      <td>NaN</td>\n",
       "      <td>NaN</td>\n",
       "      <td>7.4</td>\n",
       "    </tr>\n",
       "  </tbody>\n",
       "</table>\n",
       "<p>660 rows × 11 columns</p>\n",
       "</div>"
      ],
      "text/plain": [
       "             Surname            Firstname ID number Institution Department  \\\n",
       "0         16BTCSES11      SIDDHANT  GUPTA       NaN         NaN        NaN   \n",
       "1         16BTCSES11        ARPIT  SHARMA       NaN         NaN        NaN   \n",
       "2         16BTCSES11        VISHAL  SINGH       NaN         NaN        NaN   \n",
       "3         16BTCSES11         AKASH  YADAV       NaN         NaN        NaN   \n",
       "4         16BTCSES11       MANISH  SAHANI       NaN         NaN        NaN   \n",
       "..               ...                  ...       ...         ...        ...   \n",
       "655        16BTCSES8  ADITYA PRATAP SINGH       NaN         NaN        NaN   \n",
       "656        16BTCSES4        Ankita  Singh       NaN         NaN        NaN   \n",
       "657        16BTCSES2         UTTAM  KUMAR       NaN         NaN        NaN   \n",
       "658        16BTCSES8          SHREY  JAIN       NaN         NaN        NaN   \n",
       "659  Overall average                  NaN       NaN         NaN        NaN   \n",
       "\n",
       "                             Email address     State        Started on  \\\n",
       "0                                      NaN  Finished  08-02-2019 09:57   \n",
       "1                                      NaN  Finished  08-02-2019 09:57   \n",
       "2                                      NaN  Finished  08-02-2019 09:57   \n",
       "3                                      NaN  Finished  08-02-2019 09:57   \n",
       "4                                      NaN  Finished  08-02-2019 09:57   \n",
       "..                                     ...       ...               ...   \n",
       "655                                    NaN  Finished  06-03-2019 07:10   \n",
       "656                                    NaN  Finished  06-03-2019 07:49   \n",
       "657  uttamkumar@galgotiasuniversity.edu.in  Finished  06-03-2019 07:58   \n",
       "658  shrey.jain@galgotiasuniversity.edu.in  Finished  06-03-2019 08:05   \n",
       "659                                    NaN       NaN               NaN   \n",
       "\n",
       "            Completed        Time taken Grade/10.00  \n",
       "0    08-02-2019 10:11     14 mins 1 sec           4  \n",
       "1    08-02-2019 10:11    14 mins 5 secs           5  \n",
       "2    14-02-2019 10:10            6 days           7  \n",
       "3    14-02-2019 12:03    6 days 2 hours           9  \n",
       "4    08-02-2019 23:09  13 hours 11 mins           7  \n",
       "..                ...               ...         ...  \n",
       "655  06-03-2019 07:18    7 mins 16 secs           2  \n",
       "656  06-03-2019 07:51    2 mins 22 secs           2  \n",
       "657  06-03-2019 08:14   16 mins 12 secs           4  \n",
       "658  06-03-2019 08:10    5 mins 23 secs           4  \n",
       "659               NaN               NaN         7.4  \n",
       "\n",
       "[660 rows x 11 columns]"
      ]
     },
     "execution_count": 794,
     "metadata": {},
     "output_type": "execute_result"
    }
   ],
   "source": [
    "\n",
    "Quiz1=pd.read_csv(r\"C:\\Users\\arshad\\Downloads\\Python Assingment 3\\Prob1\\quiz\\quiz1.csv\")\n",
    "Quiz1"
   ]
  },
  {
   "cell_type": "markdown",
   "metadata": {},
   "source": [
    "__Dropping Quiz1 Column which are not required__"
   ]
  },
  {
   "cell_type": "code",
   "execution_count": 795,
   "metadata": {},
   "outputs": [
    {
     "name": "stdout",
     "output_type": "stream",
     "text": [
      "               Firstname Grade/10.00\n",
      "0        SIDDHANT  GUPTA           4\n",
      "1          ARPIT  SHARMA           5\n",
      "2          VISHAL  SINGH           7\n",
      "3           AKASH  YADAV           9\n",
      "4         MANISH  SAHANI           7\n",
      "..                   ...         ...\n",
      "655  ADITYA PRATAP SINGH           2\n",
      "656        Ankita  Singh           2\n",
      "657         UTTAM  KUMAR           4\n",
      "658          SHREY  JAIN           4\n",
      "659                  NaN         7.4\n",
      "\n",
      "[660 rows x 2 columns]\n"
     ]
    }
   ],
   "source": [
    "Quiz1=Quiz1.drop(columns=['Surname','ID number','Institution','Department','Email address','State','Started on','Completed','Time taken'])\n",
    "print(Quiz1)"
   ]
  },
  {
   "cell_type": "markdown",
   "metadata": {},
   "source": [
    "__Reading Quiz2 CSV file__"
   ]
  },
  {
   "cell_type": "code",
   "execution_count": 796,
   "metadata": {},
   "outputs": [
    {
     "name": "stdout",
     "output_type": "stream",
     "text": [
      "             Surname             Firstname ID number Institution Department  \\\n",
      "0          16BTCSES7     VEER SINGH GURJAR       NaN         NaN        NaN   \n",
      "1          16BTCSES7        PRANSHU  VERMA       NaN         NaN        NaN   \n",
      "2          16BTCSES2          EJAZ  BAKHSH       NaN         NaN        NaN   \n",
      "3          16BTCSES7            MOHD  FAIZ       NaN         NaN        NaN   \n",
      "4          16BTCSES7          ANISH  SINGH       NaN         NaN        NaN   \n",
      "..               ...                   ...       ...         ...        ...   \n",
      "676        16BTCSES6  SANJEEV KUMAR PANDEY       NaN         NaN        NaN   \n",
      "677        16BTCSES6        UTKARSH  GUPTA       NaN         NaN        NaN   \n",
      "678        16BTCSES6          GAURAV  SAHU       NaN         NaN        NaN   \n",
      "679        16BTCSES6        MAYANK  DHAWAN       NaN         NaN        NaN   \n",
      "680  Overall average                   NaN       NaN         NaN        NaN   \n",
      "\n",
      "     Email address     State        Started on         Completed  \\\n",
      "0              NaN  Finished  06-03-2019 16:25  06-03-2019 16:33   \n",
      "1              NaN  Finished  06-03-2019 16:25  06-03-2019 16:39   \n",
      "2              NaN  Finished  06-03-2019 16:26  06-03-2019 16:41   \n",
      "3              NaN  Finished  06-03-2019 16:26  06-03-2019 16:45   \n",
      "4              NaN  Finished  06-03-2019 16:28  06-03-2019 16:37   \n",
      "..             ...       ...               ...               ...   \n",
      "676            NaN  Finished  14-03-2019 16:07  14-03-2019 16:13   \n",
      "677            NaN  Finished  14-03-2019 16:07  14-03-2019 16:10   \n",
      "678            NaN  Finished  14-03-2019 16:09  14-03-2019 16:11   \n",
      "679            NaN  Finished  14-03-2019 16:14  14-03-2019 16:20   \n",
      "680            NaN       NaN               NaN               NaN   \n",
      "\n",
      "          Time taken Grade/10.00  \n",
      "0      8 mins 8 secs           4  \n",
      "1    14 mins 41 secs          10  \n",
      "2    15 mins 18 secs           4  \n",
      "3     19 mins 2 secs          10  \n",
      "4       9 mins 1 sec          10  \n",
      "..               ...         ...  \n",
      "676   6 mins 20 secs          10  \n",
      "677   3 mins 20 secs          10  \n",
      "678    2 mins 8 secs          10  \n",
      "679   5 mins 27 secs          10  \n",
      "680              NaN        8.29  \n",
      "\n",
      "[681 rows x 11 columns]\n"
     ]
    }
   ],
   "source": [
    "Quiz2=pd.read_csv(r\"C:\\Users\\arshad\\Downloads\\Python Assingment 3\\Prob1\\quiz\\quiz2.csv\")\n",
    "print(Quiz2)"
   ]
  },
  {
   "cell_type": "markdown",
   "metadata": {},
   "source": [
    "__Dropping Quiz2 Column which are not required__"
   ]
  },
  {
   "cell_type": "code",
   "execution_count": 797,
   "metadata": {},
   "outputs": [
    {
     "data": {
      "text/html": [
       "<div>\n",
       "<style scoped>\n",
       "    .dataframe tbody tr th:only-of-type {\n",
       "        vertical-align: middle;\n",
       "    }\n",
       "\n",
       "    .dataframe tbody tr th {\n",
       "        vertical-align: top;\n",
       "    }\n",
       "\n",
       "    .dataframe thead th {\n",
       "        text-align: right;\n",
       "    }\n",
       "</style>\n",
       "<table border=\"1\" class=\"dataframe\">\n",
       "  <thead>\n",
       "    <tr style=\"text-align: right;\">\n",
       "      <th></th>\n",
       "      <th>Firstname</th>\n",
       "      <th>Grade/10.00</th>\n",
       "    </tr>\n",
       "  </thead>\n",
       "  <tbody>\n",
       "    <tr>\n",
       "      <td>0</td>\n",
       "      <td>VEER SINGH GURJAR</td>\n",
       "      <td>4</td>\n",
       "    </tr>\n",
       "    <tr>\n",
       "      <td>1</td>\n",
       "      <td>PRANSHU  VERMA</td>\n",
       "      <td>10</td>\n",
       "    </tr>\n",
       "    <tr>\n",
       "      <td>2</td>\n",
       "      <td>EJAZ  BAKHSH</td>\n",
       "      <td>4</td>\n",
       "    </tr>\n",
       "    <tr>\n",
       "      <td>3</td>\n",
       "      <td>MOHD  FAIZ</td>\n",
       "      <td>10</td>\n",
       "    </tr>\n",
       "    <tr>\n",
       "      <td>4</td>\n",
       "      <td>ANISH  SINGH</td>\n",
       "      <td>10</td>\n",
       "    </tr>\n",
       "    <tr>\n",
       "      <td>...</td>\n",
       "      <td>...</td>\n",
       "      <td>...</td>\n",
       "    </tr>\n",
       "    <tr>\n",
       "      <td>676</td>\n",
       "      <td>SANJEEV KUMAR PANDEY</td>\n",
       "      <td>10</td>\n",
       "    </tr>\n",
       "    <tr>\n",
       "      <td>677</td>\n",
       "      <td>UTKARSH  GUPTA</td>\n",
       "      <td>10</td>\n",
       "    </tr>\n",
       "    <tr>\n",
       "      <td>678</td>\n",
       "      <td>GAURAV  SAHU</td>\n",
       "      <td>10</td>\n",
       "    </tr>\n",
       "    <tr>\n",
       "      <td>679</td>\n",
       "      <td>MAYANK  DHAWAN</td>\n",
       "      <td>10</td>\n",
       "    </tr>\n",
       "    <tr>\n",
       "      <td>680</td>\n",
       "      <td>NaN</td>\n",
       "      <td>8.29</td>\n",
       "    </tr>\n",
       "  </tbody>\n",
       "</table>\n",
       "<p>681 rows × 2 columns</p>\n",
       "</div>"
      ],
      "text/plain": [
       "                Firstname Grade/10.00\n",
       "0       VEER SINGH GURJAR           4\n",
       "1          PRANSHU  VERMA          10\n",
       "2            EJAZ  BAKHSH           4\n",
       "3              MOHD  FAIZ          10\n",
       "4            ANISH  SINGH          10\n",
       "..                    ...         ...\n",
       "676  SANJEEV KUMAR PANDEY          10\n",
       "677        UTKARSH  GUPTA          10\n",
       "678          GAURAV  SAHU          10\n",
       "679        MAYANK  DHAWAN          10\n",
       "680                   NaN        8.29\n",
       "\n",
       "[681 rows x 2 columns]"
      ]
     },
     "execution_count": 797,
     "metadata": {},
     "output_type": "execute_result"
    }
   ],
   "source": [
    "Quiz2=Quiz2.drop(columns=['Surname','ID number','Institution','Department','Email address','State','Started on','Completed','Time taken'])\n",
    "Quiz2"
   ]
  },
  {
   "cell_type": "markdown",
   "metadata": {},
   "source": [
    "__Dropping Batchwiselist column which are not required__"
   ]
  },
  {
   "cell_type": "code",
   "execution_count": 798,
   "metadata": {},
   "outputs": [
    {
     "data": {
      "text/html": [
       "<div>\n",
       "<style scoped>\n",
       "    .dataframe tbody tr th:only-of-type {\n",
       "        vertical-align: middle;\n",
       "    }\n",
       "\n",
       "    .dataframe tbody tr th {\n",
       "        vertical-align: top;\n",
       "    }\n",
       "\n",
       "    .dataframe thead th {\n",
       "        text-align: right;\n",
       "    }\n",
       "</style>\n",
       "<table border=\"1\" class=\"dataframe\">\n",
       "  <thead>\n",
       "    <tr style=\"text-align: right;\">\n",
       "      <th></th>\n",
       "      <th>studentName</th>\n",
       "    </tr>\n",
       "  </thead>\n",
       "  <tbody>\n",
       "    <tr>\n",
       "      <td>0</td>\n",
       "      <td>AAYUSH  TYAGI</td>\n",
       "    </tr>\n",
       "    <tr>\n",
       "      <td>1</td>\n",
       "      <td>ABHISHEK</td>\n",
       "    </tr>\n",
       "    <tr>\n",
       "      <td>2</td>\n",
       "      <td>ADITI  SINGH</td>\n",
       "    </tr>\n",
       "    <tr>\n",
       "      <td>3</td>\n",
       "      <td>ADITYA  MANKAR</td>\n",
       "    </tr>\n",
       "    <tr>\n",
       "      <td>4</td>\n",
       "      <td>AKASH  KANSAL</td>\n",
       "    </tr>\n",
       "    <tr>\n",
       "      <td>...</td>\n",
       "      <td>...</td>\n",
       "    </tr>\n",
       "    <tr>\n",
       "      <td>1012</td>\n",
       "      <td>SONU  KUMAR</td>\n",
       "    </tr>\n",
       "    <tr>\n",
       "      <td>1013</td>\n",
       "      <td>VARUN</td>\n",
       "    </tr>\n",
       "    <tr>\n",
       "      <td>1014</td>\n",
       "      <td>VISHAL  AGRAHARI</td>\n",
       "    </tr>\n",
       "    <tr>\n",
       "      <td>1015</td>\n",
       "      <td>VISHAL KUMAR PRAJAPATI</td>\n",
       "    </tr>\n",
       "    <tr>\n",
       "      <td>1016</td>\n",
       "      <td>ZAYA ALISHAN ANSARI</td>\n",
       "    </tr>\n",
       "  </tbody>\n",
       "</table>\n",
       "<p>1017 rows × 1 columns</p>\n",
       "</div>"
      ],
      "text/plain": [
       "                 studentName\n",
       "0              AAYUSH  TYAGI\n",
       "1                   ABHISHEK\n",
       "2               ADITI  SINGH\n",
       "3             ADITYA  MANKAR\n",
       "4              AKASH  KANSAL\n",
       "...                      ...\n",
       "1012             SONU  KUMAR\n",
       "1013                   VARUN\n",
       "1014        VISHAL  AGRAHARI\n",
       "1015  VISHAL KUMAR PRAJAPATI\n",
       "1016     ZAYA ALISHAN ANSARI\n",
       "\n",
       "[1017 rows x 1 columns]"
      ]
     },
     "execution_count": 798,
     "metadata": {},
     "output_type": "execute_result"
    }
   ],
   "source": [
    "#batchwiselist=batchwiselist.drop(columns=[['srNo','enrollmentNumber','admissionNumber']])\n",
    "batchwiselist=batchwiselist.drop(columns=['Unnamed: 0','srNo','enrollmentNumber','admissionNumber'])\n",
    "#batchwiselist.rename(columns={''})\n",
    "batchwiselist\n"
   ]
  },
  {
   "cell_type": "markdown",
   "metadata": {},
   "source": [
    "__Merging Dataframe Batchwise list and Quiz1__"
   ]
  },
  {
   "cell_type": "code",
   "execution_count": 799,
   "metadata": {},
   "outputs": [
    {
     "data": {
      "text/html": [
       "<div>\n",
       "<style scoped>\n",
       "    .dataframe tbody tr th:only-of-type {\n",
       "        vertical-align: middle;\n",
       "    }\n",
       "\n",
       "    .dataframe tbody tr th {\n",
       "        vertical-align: top;\n",
       "    }\n",
       "\n",
       "    .dataframe thead th {\n",
       "        text-align: right;\n",
       "    }\n",
       "</style>\n",
       "<table border=\"1\" class=\"dataframe\">\n",
       "  <thead>\n",
       "    <tr style=\"text-align: right;\">\n",
       "      <th></th>\n",
       "      <th>studentName</th>\n",
       "      <th>Grade/10.00</th>\n",
       "    </tr>\n",
       "  </thead>\n",
       "  <tbody>\n",
       "    <tr>\n",
       "      <td>0</td>\n",
       "      <td>AAYUSH  TYAGI</td>\n",
       "      <td>5</td>\n",
       "    </tr>\n",
       "    <tr>\n",
       "      <td>1</td>\n",
       "      <td>ABHISHEK</td>\n",
       "      <td>7</td>\n",
       "    </tr>\n",
       "    <tr>\n",
       "      <td>2</td>\n",
       "      <td>ADITI  SINGH</td>\n",
       "      <td>5</td>\n",
       "    </tr>\n",
       "    <tr>\n",
       "      <td>3</td>\n",
       "      <td>ADITYA  MANKAR</td>\n",
       "      <td>7</td>\n",
       "    </tr>\n",
       "    <tr>\n",
       "      <td>4</td>\n",
       "      <td>Aman  Pandey</td>\n",
       "      <td>5</td>\n",
       "    </tr>\n",
       "    <tr>\n",
       "      <td>...</td>\n",
       "      <td>...</td>\n",
       "      <td>...</td>\n",
       "    </tr>\n",
       "    <tr>\n",
       "      <td>652</td>\n",
       "      <td>SHREYASHKAR  SHARMA</td>\n",
       "      <td>4</td>\n",
       "    </tr>\n",
       "    <tr>\n",
       "      <td>653</td>\n",
       "      <td>SONU  KUMAR</td>\n",
       "      <td>7</td>\n",
       "    </tr>\n",
       "    <tr>\n",
       "      <td>654</td>\n",
       "      <td>VARUN</td>\n",
       "      <td>7</td>\n",
       "    </tr>\n",
       "    <tr>\n",
       "      <td>655</td>\n",
       "      <td>VISHAL  AGRAHARI</td>\n",
       "      <td>7</td>\n",
       "    </tr>\n",
       "    <tr>\n",
       "      <td>656</td>\n",
       "      <td>VISHAL KUMAR PRAJAPATI</td>\n",
       "      <td>3</td>\n",
       "    </tr>\n",
       "  </tbody>\n",
       "</table>\n",
       "<p>657 rows × 2 columns</p>\n",
       "</div>"
      ],
      "text/plain": [
       "                studentName Grade/10.00\n",
       "0             AAYUSH  TYAGI           5\n",
       "1                  ABHISHEK           7\n",
       "2              ADITI  SINGH           5\n",
       "3            ADITYA  MANKAR           7\n",
       "4              Aman  Pandey           5\n",
       "..                      ...         ...\n",
       "652     SHREYASHKAR  SHARMA           4\n",
       "653             SONU  KUMAR           7\n",
       "654                   VARUN           7\n",
       "655        VISHAL  AGRAHARI           7\n",
       "656  VISHAL KUMAR PRAJAPATI           3\n",
       "\n",
       "[657 rows x 2 columns]"
      ]
     },
     "execution_count": 799,
     "metadata": {},
     "output_type": "execute_result"
    }
   ],
   "source": [
    "Quiz1Grade=pd.merge(batchwiselist,Quiz1,left_on='studentName',right_on='Firstname')\n",
    "Quiz1Grade=Quiz1Grade.drop(columns=['Firstname'])\n",
    "Quiz1Grade"
   ]
  },
  {
   "cell_type": "markdown",
   "metadata": {},
   "source": [
    "__Creating Empty Datframe which contain only below mentioned column__"
   ]
  },
  {
   "cell_type": "code",
   "execution_count": 800,
   "metadata": {},
   "outputs": [
    {
     "data": {
      "text/html": [
       "<div>\n",
       "<style scoped>\n",
       "    .dataframe tbody tr th:only-of-type {\n",
       "        vertical-align: middle;\n",
       "    }\n",
       "\n",
       "    .dataframe tbody tr th {\n",
       "        vertical-align: top;\n",
       "    }\n",
       "\n",
       "    .dataframe thead th {\n",
       "        text-align: right;\n",
       "    }\n",
       "</style>\n",
       "<table border=\"1\" class=\"dataframe\">\n",
       "  <thead>\n",
       "    <tr style=\"text-align: right;\">\n",
       "      <th></th>\n",
       "      <th>No_of_Present</th>\n",
       "      <th>Less_Than_50</th>\n",
       "      <th>Between 50-60</th>\n",
       "      <th>Between 60-70</th>\n",
       "      <th>Between 70-80</th>\n",
       "      <th>Greater than 80</th>\n",
       "    </tr>\n",
       "  </thead>\n",
       "  <tbody>\n",
       "    <tr>\n",
       "      <td>Quiz 1</td>\n",
       "      <td>NaN</td>\n",
       "      <td>NaN</td>\n",
       "      <td>NaN</td>\n",
       "      <td>NaN</td>\n",
       "      <td>NaN</td>\n",
       "      <td>NaN</td>\n",
       "    </tr>\n",
       "    <tr>\n",
       "      <td>Quiz 2</td>\n",
       "      <td>NaN</td>\n",
       "      <td>NaN</td>\n",
       "      <td>NaN</td>\n",
       "      <td>NaN</td>\n",
       "      <td>NaN</td>\n",
       "      <td>NaN</td>\n",
       "    </tr>\n",
       "  </tbody>\n",
       "</table>\n",
       "</div>"
      ],
      "text/plain": [
       "       No_of_Present Less_Than_50 Between 50-60 Between 60-70 Between 70-80  \\\n",
       "Quiz 1           NaN          NaN           NaN           NaN           NaN   \n",
       "Quiz 2           NaN          NaN           NaN           NaN           NaN   \n",
       "\n",
       "       Greater than 80  \n",
       "Quiz 1             NaN  \n",
       "Quiz 2             NaN  "
      ]
     },
     "execution_count": 800,
     "metadata": {},
     "output_type": "execute_result"
    }
   ],
   "source": [
    "Stat_df=pd.DataFrame(columns=['No_of_Present','Less_Than_50','Between 50-60','Between 60-70','Between 70-80','Greater than 80'],index=['Quiz 1','Quiz 2'])\n",
    "Stat_df\n",
    "\n",
    "#print(Quiz1Grade['studentName'].notnull().sum())\n",
    "\n"
   ]
  },
  {
   "cell_type": "markdown",
   "metadata": {},
   "source": [
    "__Filling data frame (Stat_df) w.r.t to Question__"
   ]
  },
  {
   "cell_type": "code",
   "execution_count": 801,
   "metadata": {},
   "outputs": [
    {
     "data": {
      "text/html": [
       "<div>\n",
       "<style scoped>\n",
       "    .dataframe tbody tr th:only-of-type {\n",
       "        vertical-align: middle;\n",
       "    }\n",
       "\n",
       "    .dataframe tbody tr th {\n",
       "        vertical-align: top;\n",
       "    }\n",
       "\n",
       "    .dataframe thead th {\n",
       "        text-align: right;\n",
       "    }\n",
       "</style>\n",
       "<table border=\"1\" class=\"dataframe\">\n",
       "  <thead>\n",
       "    <tr style=\"text-align: right;\">\n",
       "      <th></th>\n",
       "      <th>No_of_Present</th>\n",
       "      <th>Less_Than_50</th>\n",
       "      <th>Between 50-60</th>\n",
       "      <th>Between 60-70</th>\n",
       "      <th>Between 70-80</th>\n",
       "      <th>Greater than 80</th>\n",
       "    </tr>\n",
       "  </thead>\n",
       "  <tbody>\n",
       "    <tr>\n",
       "      <td>Quiz 1</td>\n",
       "      <td>657</td>\n",
       "      <td>NaN</td>\n",
       "      <td>NaN</td>\n",
       "      <td>NaN</td>\n",
       "      <td>NaN</td>\n",
       "      <td>NaN</td>\n",
       "    </tr>\n",
       "    <tr>\n",
       "      <td>Quiz 2</td>\n",
       "      <td>NaN</td>\n",
       "      <td>NaN</td>\n",
       "      <td>NaN</td>\n",
       "      <td>NaN</td>\n",
       "      <td>NaN</td>\n",
       "      <td>NaN</td>\n",
       "    </tr>\n",
       "  </tbody>\n",
       "</table>\n",
       "</div>"
      ],
      "text/plain": [
       "       No_of_Present Less_Than_50 Between 50-60 Between 60-70 Between 70-80  \\\n",
       "Quiz 1           657          NaN           NaN           NaN           NaN   \n",
       "Quiz 2           NaN          NaN           NaN           NaN           NaN   \n",
       "\n",
       "       Greater than 80  \n",
       "Quiz 1             NaN  \n",
       "Quiz 2             NaN  "
      ]
     },
     "execution_count": 801,
     "metadata": {},
     "output_type": "execute_result"
    }
   ],
   "source": [
    "Stat_df['No_of_Present'][0]=Quiz1Grade['studentName'].notnull().sum()\n",
    "Stat_df['No_of_Present']\n",
    "Stat_df"
   ]
  },
  {
   "cell_type": "code",
   "execution_count": 802,
   "metadata": {},
   "outputs": [],
   "source": [
    "Quiz1Grade['Grade/10.00']=Quiz1Grade['Grade/10.00'].apply(pd.to_numeric,errors='coerce')\n",
    "Quiz1Grade['Grade/10.00']=Quiz1Grade['Grade/10.00'].fillna(0)\n",
    "Quiz1Grade['Grade/10.00']=Quiz1Grade['Grade/10.00'].astype('int64')"
   ]
  },
  {
   "cell_type": "code",
   "execution_count": 803,
   "metadata": {},
   "outputs": [
    {
     "name": "stdout",
     "output_type": "stream",
     "text": [
      "127\n"
     ]
    }
   ],
   "source": [
    "a=Quiz1Grade[Quiz1Grade['Grade/10.00'] < 5].count()\n",
    "print(a['Grade/10.00'])"
   ]
  },
  {
   "cell_type": "code",
   "execution_count": 804,
   "metadata": {},
   "outputs": [],
   "source": [
    "Stat_df.at['Quiz 1','Less_Than_50']=a['Grade/10.00']"
   ]
  },
  {
   "cell_type": "code",
   "execution_count": 805,
   "metadata": {},
   "outputs": [
    {
     "data": {
      "text/html": [
       "<div>\n",
       "<style scoped>\n",
       "    .dataframe tbody tr th:only-of-type {\n",
       "        vertical-align: middle;\n",
       "    }\n",
       "\n",
       "    .dataframe tbody tr th {\n",
       "        vertical-align: top;\n",
       "    }\n",
       "\n",
       "    .dataframe thead th {\n",
       "        text-align: right;\n",
       "    }\n",
       "</style>\n",
       "<table border=\"1\" class=\"dataframe\">\n",
       "  <thead>\n",
       "    <tr style=\"text-align: right;\">\n",
       "      <th></th>\n",
       "      <th>No_of_Present</th>\n",
       "      <th>Less_Than_50</th>\n",
       "      <th>Between 50-60</th>\n",
       "      <th>Between 60-70</th>\n",
       "      <th>Between 70-80</th>\n",
       "      <th>Greater than 80</th>\n",
       "    </tr>\n",
       "  </thead>\n",
       "  <tbody>\n",
       "    <tr>\n",
       "      <td>Quiz 1</td>\n",
       "      <td>657</td>\n",
       "      <td>127</td>\n",
       "      <td>NaN</td>\n",
       "      <td>NaN</td>\n",
       "      <td>NaN</td>\n",
       "      <td>NaN</td>\n",
       "    </tr>\n",
       "    <tr>\n",
       "      <td>Quiz 2</td>\n",
       "      <td>NaN</td>\n",
       "      <td>NaN</td>\n",
       "      <td>NaN</td>\n",
       "      <td>NaN</td>\n",
       "      <td>NaN</td>\n",
       "      <td>NaN</td>\n",
       "    </tr>\n",
       "  </tbody>\n",
       "</table>\n",
       "</div>"
      ],
      "text/plain": [
       "       No_of_Present Less_Than_50 Between 50-60 Between 60-70 Between 70-80  \\\n",
       "Quiz 1           657          127           NaN           NaN           NaN   \n",
       "Quiz 2           NaN          NaN           NaN           NaN           NaN   \n",
       "\n",
       "       Greater than 80  \n",
       "Quiz 1             NaN  \n",
       "Quiz 2             NaN  "
      ]
     },
     "execution_count": 805,
     "metadata": {},
     "output_type": "execute_result"
    }
   ],
   "source": [
    "Stat_df"
   ]
  },
  {
   "cell_type": "code",
   "execution_count": 806,
   "metadata": {},
   "outputs": [
    {
     "data": {
      "text/plain": [
       "126"
      ]
     },
     "execution_count": 806,
     "metadata": {},
     "output_type": "execute_result"
    }
   ],
   "source": [
    "b=Quiz1Grade['Grade/10.00'].between(5,6).sum()\n",
    "b"
   ]
  },
  {
   "cell_type": "code",
   "execution_count": 807,
   "metadata": {},
   "outputs": [
    {
     "data": {
      "text/html": [
       "<div>\n",
       "<style scoped>\n",
       "    .dataframe tbody tr th:only-of-type {\n",
       "        vertical-align: middle;\n",
       "    }\n",
       "\n",
       "    .dataframe tbody tr th {\n",
       "        vertical-align: top;\n",
       "    }\n",
       "\n",
       "    .dataframe thead th {\n",
       "        text-align: right;\n",
       "    }\n",
       "</style>\n",
       "<table border=\"1\" class=\"dataframe\">\n",
       "  <thead>\n",
       "    <tr style=\"text-align: right;\">\n",
       "      <th></th>\n",
       "      <th>No_of_Present</th>\n",
       "      <th>Less_Than_50</th>\n",
       "      <th>Between 50-60</th>\n",
       "      <th>Between 60-70</th>\n",
       "      <th>Between 70-80</th>\n",
       "      <th>Greater than 80</th>\n",
       "    </tr>\n",
       "  </thead>\n",
       "  <tbody>\n",
       "    <tr>\n",
       "      <td>Quiz 1</td>\n",
       "      <td>657</td>\n",
       "      <td>127</td>\n",
       "      <td>126</td>\n",
       "      <td>NaN</td>\n",
       "      <td>NaN</td>\n",
       "      <td>NaN</td>\n",
       "    </tr>\n",
       "    <tr>\n",
       "      <td>Quiz 2</td>\n",
       "      <td>NaN</td>\n",
       "      <td>NaN</td>\n",
       "      <td>NaN</td>\n",
       "      <td>NaN</td>\n",
       "      <td>NaN</td>\n",
       "      <td>NaN</td>\n",
       "    </tr>\n",
       "  </tbody>\n",
       "</table>\n",
       "</div>"
      ],
      "text/plain": [
       "       No_of_Present Less_Than_50 Between 50-60 Between 60-70 Between 70-80  \\\n",
       "Quiz 1           657          127           126           NaN           NaN   \n",
       "Quiz 2           NaN          NaN           NaN           NaN           NaN   \n",
       "\n",
       "       Greater than 80  \n",
       "Quiz 1             NaN  \n",
       "Quiz 2             NaN  "
      ]
     },
     "execution_count": 807,
     "metadata": {},
     "output_type": "execute_result"
    }
   ],
   "source": [
    "Stat_df.at['Quiz 1','Between 50-60']=b\n",
    "Stat_df"
   ]
  },
  {
   "cell_type": "code",
   "execution_count": 808,
   "metadata": {},
   "outputs": [
    {
     "data": {
      "text/html": [
       "<div>\n",
       "<style scoped>\n",
       "    .dataframe tbody tr th:only-of-type {\n",
       "        vertical-align: middle;\n",
       "    }\n",
       "\n",
       "    .dataframe tbody tr th {\n",
       "        vertical-align: top;\n",
       "    }\n",
       "\n",
       "    .dataframe thead th {\n",
       "        text-align: right;\n",
       "    }\n",
       "</style>\n",
       "<table border=\"1\" class=\"dataframe\">\n",
       "  <thead>\n",
       "    <tr style=\"text-align: right;\">\n",
       "      <th></th>\n",
       "      <th>No_of_Present</th>\n",
       "      <th>Less_Than_50</th>\n",
       "      <th>Between 50-60</th>\n",
       "      <th>Between 60-70</th>\n",
       "      <th>Between 70-80</th>\n",
       "      <th>Greater than 80</th>\n",
       "    </tr>\n",
       "  </thead>\n",
       "  <tbody>\n",
       "    <tr>\n",
       "      <td>Quiz 1</td>\n",
       "      <td>657</td>\n",
       "      <td>127</td>\n",
       "      <td>126</td>\n",
       "      <td>NaN</td>\n",
       "      <td>NaN</td>\n",
       "      <td>NaN</td>\n",
       "    </tr>\n",
       "    <tr>\n",
       "      <td>Quiz 2</td>\n",
       "      <td>NaN</td>\n",
       "      <td>NaN</td>\n",
       "      <td>NaN</td>\n",
       "      <td>NaN</td>\n",
       "      <td>NaN</td>\n",
       "      <td>NaN</td>\n",
       "    </tr>\n",
       "  </tbody>\n",
       "</table>\n",
       "</div>"
      ],
      "text/plain": [
       "       No_of_Present Less_Than_50 Between 50-60 Between 60-70 Between 70-80  \\\n",
       "Quiz 1           657          127           126           NaN           NaN   \n",
       "Quiz 2           NaN          NaN           NaN           NaN           NaN   \n",
       "\n",
       "       Greater than 80  \n",
       "Quiz 1             NaN  \n",
       "Quiz 2             NaN  "
      ]
     },
     "execution_count": 808,
     "metadata": {},
     "output_type": "execute_result"
    }
   ],
   "source": [
    "c=Quiz1Grade['Grade/10.00'].between(6.1,7).sum()\n",
    "Stat_df"
   ]
  },
  {
   "cell_type": "code",
   "execution_count": 809,
   "metadata": {},
   "outputs": [],
   "source": [
    "Stat_df.at['Quiz 1','Between 60-70']=c"
   ]
  },
  {
   "cell_type": "code",
   "execution_count": 810,
   "metadata": {},
   "outputs": [
    {
     "data": {
      "text/plain": [
       "42"
      ]
     },
     "execution_count": 810,
     "metadata": {},
     "output_type": "execute_result"
    }
   ],
   "source": [
    "d=Quiz1Grade['Grade/10.00'].between(7.1,8).sum()\n",
    "d"
   ]
  },
  {
   "cell_type": "code",
   "execution_count": 811,
   "metadata": {},
   "outputs": [],
   "source": [
    "Stat_df.at['Quiz 1','Between 70-80']=d"
   ]
  },
  {
   "cell_type": "code",
   "execution_count": null,
   "metadata": {},
   "outputs": [],
   "source": []
  },
  {
   "cell_type": "code",
   "execution_count": 812,
   "metadata": {},
   "outputs": [],
   "source": [
    "e=Quiz1Grade[Quiz1Grade['Grade/10.00'] >8].count(axis=0)\n",
    "e=e[1]\n"
   ]
  },
  {
   "cell_type": "code",
   "execution_count": 813,
   "metadata": {},
   "outputs": [],
   "source": [
    "Stat_df.at['Quiz 1','Greater than 80']=e"
   ]
  },
  {
   "cell_type": "code",
   "execution_count": 814,
   "metadata": {},
   "outputs": [
    {
     "data": {
      "text/html": [
       "<div>\n",
       "<style scoped>\n",
       "    .dataframe tbody tr th:only-of-type {\n",
       "        vertical-align: middle;\n",
       "    }\n",
       "\n",
       "    .dataframe tbody tr th {\n",
       "        vertical-align: top;\n",
       "    }\n",
       "\n",
       "    .dataframe thead th {\n",
       "        text-align: right;\n",
       "    }\n",
       "</style>\n",
       "<table border=\"1\" class=\"dataframe\">\n",
       "  <thead>\n",
       "    <tr style=\"text-align: right;\">\n",
       "      <th></th>\n",
       "      <th>No_of_Present</th>\n",
       "      <th>Less_Than_50</th>\n",
       "      <th>Between 50-60</th>\n",
       "      <th>Between 60-70</th>\n",
       "      <th>Between 70-80</th>\n",
       "      <th>Greater than 80</th>\n",
       "    </tr>\n",
       "  </thead>\n",
       "  <tbody>\n",
       "    <tr>\n",
       "      <td>Quiz 1</td>\n",
       "      <td>657</td>\n",
       "      <td>127</td>\n",
       "      <td>126</td>\n",
       "      <td>58</td>\n",
       "      <td>42</td>\n",
       "      <td>304</td>\n",
       "    </tr>\n",
       "    <tr>\n",
       "      <td>Quiz 2</td>\n",
       "      <td>NaN</td>\n",
       "      <td>NaN</td>\n",
       "      <td>NaN</td>\n",
       "      <td>NaN</td>\n",
       "      <td>NaN</td>\n",
       "      <td>NaN</td>\n",
       "    </tr>\n",
       "  </tbody>\n",
       "</table>\n",
       "</div>"
      ],
      "text/plain": [
       "       No_of_Present Less_Than_50 Between 50-60 Between 60-70 Between 70-80  \\\n",
       "Quiz 1           657          127           126            58            42   \n",
       "Quiz 2           NaN          NaN           NaN           NaN           NaN   \n",
       "\n",
       "       Greater than 80  \n",
       "Quiz 1             304  \n",
       "Quiz 2             NaN  "
      ]
     },
     "execution_count": 814,
     "metadata": {},
     "output_type": "execute_result"
    }
   ],
   "source": [
    "Stat_df"
   ]
  },
  {
   "cell_type": "markdown",
   "metadata": {},
   "source": [
    "__Operation on Quiz 2__"
   ]
  },
  {
   "cell_type": "code",
   "execution_count": 815,
   "metadata": {},
   "outputs": [
    {
     "data": {
      "text/html": [
       "<div>\n",
       "<style scoped>\n",
       "    .dataframe tbody tr th:only-of-type {\n",
       "        vertical-align: middle;\n",
       "    }\n",
       "\n",
       "    .dataframe tbody tr th {\n",
       "        vertical-align: top;\n",
       "    }\n",
       "\n",
       "    .dataframe thead th {\n",
       "        text-align: right;\n",
       "    }\n",
       "</style>\n",
       "<table border=\"1\" class=\"dataframe\">\n",
       "  <thead>\n",
       "    <tr style=\"text-align: right;\">\n",
       "      <th></th>\n",
       "      <th>studentName</th>\n",
       "      <th>Firstname</th>\n",
       "      <th>Grade/10.00</th>\n",
       "    </tr>\n",
       "  </thead>\n",
       "  <tbody>\n",
       "    <tr>\n",
       "      <td>0</td>\n",
       "      <td>AAYUSH  TYAGI</td>\n",
       "      <td>AAYUSH  TYAGI</td>\n",
       "      <td>10</td>\n",
       "    </tr>\n",
       "    <tr>\n",
       "      <td>1</td>\n",
       "      <td>ABHISHEK</td>\n",
       "      <td>ABHISHEK</td>\n",
       "      <td>10</td>\n",
       "    </tr>\n",
       "    <tr>\n",
       "      <td>2</td>\n",
       "      <td>ADITI  SINGH</td>\n",
       "      <td>ADITI  SINGH</td>\n",
       "      <td>9</td>\n",
       "    </tr>\n",
       "    <tr>\n",
       "      <td>3</td>\n",
       "      <td>ADITYA  MANKAR</td>\n",
       "      <td>ADITYA  MANKAR</td>\n",
       "      <td>8</td>\n",
       "    </tr>\n",
       "    <tr>\n",
       "      <td>4</td>\n",
       "      <td>Aman  Pandey</td>\n",
       "      <td>Aman  Pandey</td>\n",
       "      <td>10</td>\n",
       "    </tr>\n",
       "    <tr>\n",
       "      <td>...</td>\n",
       "      <td>...</td>\n",
       "      <td>...</td>\n",
       "      <td>...</td>\n",
       "    </tr>\n",
       "    <tr>\n",
       "      <td>671</td>\n",
       "      <td>SHIVA  BHARDWAJ</td>\n",
       "      <td>SHIVA  BHARDWAJ</td>\n",
       "      <td>6</td>\n",
       "    </tr>\n",
       "    <tr>\n",
       "      <td>672</td>\n",
       "      <td>SONU  KUMAR</td>\n",
       "      <td>SONU  KUMAR</td>\n",
       "      <td>1</td>\n",
       "    </tr>\n",
       "    <tr>\n",
       "      <td>673</td>\n",
       "      <td>VARUN</td>\n",
       "      <td>VARUN</td>\n",
       "      <td>10</td>\n",
       "    </tr>\n",
       "    <tr>\n",
       "      <td>674</td>\n",
       "      <td>VISHAL  AGRAHARI</td>\n",
       "      <td>VISHAL  AGRAHARI</td>\n",
       "      <td>2</td>\n",
       "    </tr>\n",
       "    <tr>\n",
       "      <td>675</td>\n",
       "      <td>VISHAL KUMAR PRAJAPATI</td>\n",
       "      <td>VISHAL KUMAR PRAJAPATI</td>\n",
       "      <td>1</td>\n",
       "    </tr>\n",
       "  </tbody>\n",
       "</table>\n",
       "<p>676 rows × 3 columns</p>\n",
       "</div>"
      ],
      "text/plain": [
       "                studentName               Firstname Grade/10.00\n",
       "0             AAYUSH  TYAGI           AAYUSH  TYAGI          10\n",
       "1                  ABHISHEK                ABHISHEK          10\n",
       "2              ADITI  SINGH            ADITI  SINGH           9\n",
       "3            ADITYA  MANKAR          ADITYA  MANKAR           8\n",
       "4              Aman  Pandey            Aman  Pandey          10\n",
       "..                      ...                     ...         ...\n",
       "671         SHIVA  BHARDWAJ         SHIVA  BHARDWAJ           6\n",
       "672             SONU  KUMAR             SONU  KUMAR           1\n",
       "673                   VARUN                   VARUN          10\n",
       "674        VISHAL  AGRAHARI        VISHAL  AGRAHARI           2\n",
       "675  VISHAL KUMAR PRAJAPATI  VISHAL KUMAR PRAJAPATI           1\n",
       "\n",
       "[676 rows x 3 columns]"
      ]
     },
     "execution_count": 815,
     "metadata": {},
     "output_type": "execute_result"
    }
   ],
   "source": [
    "Quiz2Grade=pd.merge(batchwiselist,Quiz2,left_on=\"studentName\",right_on='Firstname')\n",
    "Quiz2Grade"
   ]
  },
  {
   "cell_type": "code",
   "execution_count": 816,
   "metadata": {},
   "outputs": [
    {
     "data": {
      "text/html": [
       "<div>\n",
       "<style scoped>\n",
       "    .dataframe tbody tr th:only-of-type {\n",
       "        vertical-align: middle;\n",
       "    }\n",
       "\n",
       "    .dataframe tbody tr th {\n",
       "        vertical-align: top;\n",
       "    }\n",
       "\n",
       "    .dataframe thead th {\n",
       "        text-align: right;\n",
       "    }\n",
       "</style>\n",
       "<table border=\"1\" class=\"dataframe\">\n",
       "  <thead>\n",
       "    <tr style=\"text-align: right;\">\n",
       "      <th></th>\n",
       "      <th>studentName</th>\n",
       "      <th>Grade/10.00</th>\n",
       "    </tr>\n",
       "  </thead>\n",
       "  <tbody>\n",
       "    <tr>\n",
       "      <td>0</td>\n",
       "      <td>AAYUSH  TYAGI</td>\n",
       "      <td>10</td>\n",
       "    </tr>\n",
       "    <tr>\n",
       "      <td>1</td>\n",
       "      <td>ABHISHEK</td>\n",
       "      <td>10</td>\n",
       "    </tr>\n",
       "    <tr>\n",
       "      <td>2</td>\n",
       "      <td>ADITI  SINGH</td>\n",
       "      <td>9</td>\n",
       "    </tr>\n",
       "    <tr>\n",
       "      <td>3</td>\n",
       "      <td>ADITYA  MANKAR</td>\n",
       "      <td>8</td>\n",
       "    </tr>\n",
       "    <tr>\n",
       "      <td>4</td>\n",
       "      <td>Aman  Pandey</td>\n",
       "      <td>10</td>\n",
       "    </tr>\n",
       "    <tr>\n",
       "      <td>...</td>\n",
       "      <td>...</td>\n",
       "      <td>...</td>\n",
       "    </tr>\n",
       "    <tr>\n",
       "      <td>671</td>\n",
       "      <td>SHIVA  BHARDWAJ</td>\n",
       "      <td>6</td>\n",
       "    </tr>\n",
       "    <tr>\n",
       "      <td>672</td>\n",
       "      <td>SONU  KUMAR</td>\n",
       "      <td>1</td>\n",
       "    </tr>\n",
       "    <tr>\n",
       "      <td>673</td>\n",
       "      <td>VARUN</td>\n",
       "      <td>10</td>\n",
       "    </tr>\n",
       "    <tr>\n",
       "      <td>674</td>\n",
       "      <td>VISHAL  AGRAHARI</td>\n",
       "      <td>2</td>\n",
       "    </tr>\n",
       "    <tr>\n",
       "      <td>675</td>\n",
       "      <td>VISHAL KUMAR PRAJAPATI</td>\n",
       "      <td>1</td>\n",
       "    </tr>\n",
       "  </tbody>\n",
       "</table>\n",
       "<p>676 rows × 2 columns</p>\n",
       "</div>"
      ],
      "text/plain": [
       "                studentName Grade/10.00\n",
       "0             AAYUSH  TYAGI          10\n",
       "1                  ABHISHEK          10\n",
       "2              ADITI  SINGH           9\n",
       "3            ADITYA  MANKAR           8\n",
       "4              Aman  Pandey          10\n",
       "..                      ...         ...\n",
       "671         SHIVA  BHARDWAJ           6\n",
       "672             SONU  KUMAR           1\n",
       "673                   VARUN          10\n",
       "674        VISHAL  AGRAHARI           2\n",
       "675  VISHAL KUMAR PRAJAPATI           1\n",
       "\n",
       "[676 rows x 2 columns]"
      ]
     },
     "execution_count": 816,
     "metadata": {},
     "output_type": "execute_result"
    }
   ],
   "source": [
    "Quiz2Grade.drop(columns='Firstname')"
   ]
  },
  {
   "cell_type": "code",
   "execution_count": 817,
   "metadata": {},
   "outputs": [],
   "source": [
    "Quiz2Grade['Grade/10.00']=Quiz2Grade['Grade/10.00'].apply(pd.to_numeric,errors='coerce')\n",
    "Quiz2Grade['Grade/10.00']=Quiz2Grade['Grade/10.00'].fillna(0)\n",
    "Quiz2Grade['Grade/10.00']=Quiz2Grade['Grade/10.00'].astype('int64')"
   ]
  },
  {
   "cell_type": "code",
   "execution_count": 818,
   "metadata": {},
   "outputs": [
    {
     "data": {
      "text/plain": [
       "dtype('int64')"
      ]
     },
     "execution_count": 818,
     "metadata": {},
     "output_type": "execute_result"
    }
   ],
   "source": [
    "Quiz2Grade['Grade/10.00'].dtype"
   ]
  },
  {
   "cell_type": "code",
   "execution_count": 819,
   "metadata": {},
   "outputs": [],
   "source": [
    "Stat_df.at['Quiz 2','No_of_Present']=Quiz2Grade['studentName'].notnull().sum()"
   ]
  },
  {
   "cell_type": "code",
   "execution_count": 820,
   "metadata": {},
   "outputs": [
    {
     "name": "stdout",
     "output_type": "stream",
     "text": [
      "93\n"
     ]
    }
   ],
   "source": [
    "a=Quiz2Grade[Quiz2Grade['Grade/10.00']<5].count()\n",
    "a=a['Grade/10.00']\n",
    "print(a)\n"
   ]
  },
  {
   "cell_type": "code",
   "execution_count": 821,
   "metadata": {},
   "outputs": [],
   "source": [
    "Stat_df.at['Quiz 2','Less_Than_50']=a"
   ]
  },
  {
   "cell_type": "code",
   "execution_count": 822,
   "metadata": {},
   "outputs": [
    {
     "name": "stdout",
     "output_type": "stream",
     "text": [
      "78\n"
     ]
    }
   ],
   "source": [
    "b=Quiz2Grade['Grade/10.00'].between(5,6).sum()\n",
    "print(b)"
   ]
  },
  {
   "cell_type": "code",
   "execution_count": 823,
   "metadata": {},
   "outputs": [],
   "source": [
    "Stat_df.at['Quiz 2','Between 50-60']=b"
   ]
  },
  {
   "cell_type": "code",
   "execution_count": 824,
   "metadata": {},
   "outputs": [],
   "source": [
    "c=Quiz2Grade['Grade/10.00'].between(6.1,7).sum()"
   ]
  },
  {
   "cell_type": "code",
   "execution_count": 825,
   "metadata": {},
   "outputs": [],
   "source": [
    "Stat_df.at['Quiz 2','Between 60-70']=c"
   ]
  },
  {
   "cell_type": "code",
   "execution_count": 826,
   "metadata": {},
   "outputs": [],
   "source": [
    "d=Quiz2Grade['Grade/10.00'].between(7.1,8).sum()"
   ]
  },
  {
   "cell_type": "code",
   "execution_count": 827,
   "metadata": {},
   "outputs": [],
   "source": [
    "Stat_df.at['Quiz 2','Between 70-80']=d"
   ]
  },
  {
   "cell_type": "code",
   "execution_count": 828,
   "metadata": {},
   "outputs": [
    {
     "name": "stdout",
     "output_type": "stream",
     "text": [
      "414\n"
     ]
    }
   ],
   "source": [
    "e=Quiz2Grade[Quiz2Grade['Grade/10.00']>8.1].count()\n",
    "print(e['Grade/10.00'])"
   ]
  },
  {
   "cell_type": "code",
   "execution_count": 829,
   "metadata": {},
   "outputs": [],
   "source": [
    "Stat_df.at['Quiz 2','Greater than 80']=e"
   ]
  },
  {
   "cell_type": "code",
   "execution_count": 830,
   "metadata": {},
   "outputs": [
    {
     "data": {
      "text/html": [
       "<div>\n",
       "<style scoped>\n",
       "    .dataframe tbody tr th:only-of-type {\n",
       "        vertical-align: middle;\n",
       "    }\n",
       "\n",
       "    .dataframe tbody tr th {\n",
       "        vertical-align: top;\n",
       "    }\n",
       "\n",
       "    .dataframe thead th {\n",
       "        text-align: right;\n",
       "    }\n",
       "</style>\n",
       "<table border=\"1\" class=\"dataframe\">\n",
       "  <thead>\n",
       "    <tr style=\"text-align: right;\">\n",
       "      <th></th>\n",
       "      <th>No_of_Present</th>\n",
       "      <th>Less_Than_50</th>\n",
       "      <th>Between 50-60</th>\n",
       "      <th>Between 60-70</th>\n",
       "      <th>Between 70-80</th>\n",
       "      <th>Greater than 80</th>\n",
       "    </tr>\n",
       "  </thead>\n",
       "  <tbody>\n",
       "    <tr>\n",
       "      <td>Quiz 1</td>\n",
       "      <td>657</td>\n",
       "      <td>127</td>\n",
       "      <td>126</td>\n",
       "      <td>58</td>\n",
       "      <td>42</td>\n",
       "      <td>304</td>\n",
       "    </tr>\n",
       "    <tr>\n",
       "      <td>Quiz 2</td>\n",
       "      <td>676</td>\n",
       "      <td>93</td>\n",
       "      <td>78</td>\n",
       "      <td>41</td>\n",
       "      <td>50</td>\n",
       "      <td>studentName    414\n",
       "Firstname      414\n",
       "Grade/10...</td>\n",
       "    </tr>\n",
       "  </tbody>\n",
       "</table>\n",
       "</div>"
      ],
      "text/plain": [
       "       No_of_Present Less_Than_50 Between 50-60 Between 60-70 Between 70-80  \\\n",
       "Quiz 1           657          127           126            58            42   \n",
       "Quiz 2           676           93            78            41            50   \n",
       "\n",
       "                                          Greater than 80  \n",
       "Quiz 1                                                304  \n",
       "Quiz 2  studentName    414\n",
       "Firstname      414\n",
       "Grade/10...  "
      ]
     },
     "execution_count": 830,
     "metadata": {},
     "output_type": "execute_result"
    }
   ],
   "source": [
    "Stat_df"
   ]
  },
  {
   "cell_type": "code",
   "execution_count": null,
   "metadata": {},
   "outputs": [],
   "source": []
  },
  {
   "cell_type": "code",
   "execution_count": 831,
   "metadata": {},
   "outputs": [],
   "source": [
    "TestCase=pd.read_csv(r'C:\\Users\\arshad\\Downloads\\Python Assingment 3\\Prob1\\testcaseStudent.txt')"
   ]
  },
  {
   "cell_type": "code",
   "execution_count": 832,
   "metadata": {},
   "outputs": [
    {
     "name": "stdout",
     "output_type": "stream",
     "text": [
      "               2\n",
      "0          1.csv\n",
      "1  greaterthan80\n",
      "2          9.csv\n",
      "3     lessthan50\n"
     ]
    }
   ],
   "source": [
    "print(TestCase)\n"
   ]
  },
  {
   "cell_type": "markdown",
   "metadata": {},
   "source": [
    "__Reading TestCase File__"
   ]
  },
  {
   "cell_type": "code",
   "execution_count": 833,
   "metadata": {},
   "outputs": [],
   "source": [
    "import pandas as pd\n",
    "import numpy as np\n",
    "TestCase=pd.read_csv(r'C:\\Users\\arshad\\Downloads\\Python Assingment 3\\Prob1\\testcaseStudent.txt',header=None)\n",
    "df = pd.DataFrame(TestCase)"
   ]
  },
  {
   "cell_type": "code",
   "execution_count": 834,
   "metadata": {},
   "outputs": [
    {
     "data": {
      "text/html": [
       "<div>\n",
       "<style scoped>\n",
       "    .dataframe tbody tr th:only-of-type {\n",
       "        vertical-align: middle;\n",
       "    }\n",
       "\n",
       "    .dataframe tbody tr th {\n",
       "        vertical-align: top;\n",
       "    }\n",
       "\n",
       "    .dataframe thead th {\n",
       "        text-align: right;\n",
       "    }\n",
       "</style>\n",
       "<table border=\"1\" class=\"dataframe\">\n",
       "  <thead>\n",
       "    <tr style=\"text-align: right;\">\n",
       "      <th></th>\n",
       "      <th>0</th>\n",
       "    </tr>\n",
       "  </thead>\n",
       "  <tbody>\n",
       "    <tr>\n",
       "      <td>0</td>\n",
       "      <td>2</td>\n",
       "    </tr>\n",
       "    <tr>\n",
       "      <td>1</td>\n",
       "      <td>1.csv</td>\n",
       "    </tr>\n",
       "    <tr>\n",
       "      <td>2</td>\n",
       "      <td>greaterthan80</td>\n",
       "    </tr>\n",
       "    <tr>\n",
       "      <td>3</td>\n",
       "      <td>9.csv</td>\n",
       "    </tr>\n",
       "    <tr>\n",
       "      <td>4</td>\n",
       "      <td>lessthan50</td>\n",
       "    </tr>\n",
       "  </tbody>\n",
       "</table>\n",
       "</div>"
      ],
      "text/plain": [
       "               0\n",
       "0              2\n",
       "1          1.csv\n",
       "2  greaterthan80\n",
       "3          9.csv\n",
       "4     lessthan50"
      ]
     },
     "execution_count": 834,
     "metadata": {},
     "output_type": "execute_result"
    }
   ],
   "source": [
    "df"
   ]
  },
  {
   "cell_type": "code",
   "execution_count": 835,
   "metadata": {},
   "outputs": [],
   "source": [
    "#np.savetxt(r'C:\\Users\\arshad\\Downloads\\Python Assingment 3\\Prob1\\Output.txt',df.values,fmt='%d')"
   ]
  },
  {
   "cell_type": "code",
   "execution_count": 836,
   "metadata": {},
   "outputs": [],
   "source": [
    "#with open(r'C:\\Users\\arshad\\Downloads\\Python Assingment 3\\Prob1\\Output11.txt', 'a') as f:\n",
    "#    f.write(TestCase.to_csv(header = False, index = False))"
   ]
  },
  {
   "cell_type": "code",
   "execution_count": 837,
   "metadata": {},
   "outputs": [],
   "source": [
    "#output=pd.read_csv(r'C:\\Users\\arshad\\Downloads\\Python Assingment 3\\Prob1\\Output11.txt',header=None)\n",
    "#output=pd.DataFrame(output)"
   ]
  },
  {
   "cell_type": "code",
   "execution_count": 838,
   "metadata": {},
   "outputs": [],
   "source": [
    "#output"
   ]
  },
  {
   "cell_type": "markdown",
   "metadata": {},
   "source": [
    "__In the above Dataframe... we want 1.csv file__"
   ]
  },
  {
   "cell_type": "markdown",
   "metadata": {},
   "source": [
    "__Picking out index (1)__"
   ]
  },
  {
   "cell_type": "code",
   "execution_count": 839,
   "metadata": {},
   "outputs": [
    {
     "name": "stdout",
     "output_type": "stream",
     "text": [
      "0    1.csv\n",
      "Name: 1, dtype: object\n"
     ]
    }
   ],
   "source": [
    "content=TestCase.iloc[1]\n",
    "print(content)"
   ]
  },
  {
   "cell_type": "code",
   "execution_count": 840,
   "metadata": {},
   "outputs": [],
   "source": [
    "#content=content.to_string()"
   ]
  },
  {
   "cell_type": "code",
   "execution_count": 841,
   "metadata": {},
   "outputs": [],
   "source": [
    "#x=content[5]"
   ]
  },
  {
   "cell_type": "code",
   "execution_count": 842,
   "metadata": {},
   "outputs": [
    {
     "name": "stdout",
     "output_type": "stream",
     "text": [
      "1.csv\n"
     ]
    }
   ],
   "source": [
    "content=content[0]\n",
    "print(content)"
   ]
  },
  {
   "cell_type": "markdown",
   "metadata": {},
   "source": [
    "# CSV_1 Quiz_1"
   ]
  },
  {
   "cell_type": "markdown",
   "metadata": {},
   "source": [
    "__Reading 1.csv file form Bacthlist folder__"
   ]
  },
  {
   "cell_type": "code",
   "execution_count": 843,
   "metadata": {},
   "outputs": [
    {
     "name": "stdout",
     "output_type": "stream",
     "text": [
      "1.csv\n"
     ]
    },
    {
     "data": {
      "text/html": [
       "<div>\n",
       "<style scoped>\n",
       "    .dataframe tbody tr th:only-of-type {\n",
       "        vertical-align: middle;\n",
       "    }\n",
       "\n",
       "    .dataframe tbody tr th {\n",
       "        vertical-align: top;\n",
       "    }\n",
       "\n",
       "    .dataframe thead th {\n",
       "        text-align: right;\n",
       "    }\n",
       "</style>\n",
       "<table border=\"1\" class=\"dataframe\">\n",
       "  <thead>\n",
       "    <tr style=\"text-align: right;\">\n",
       "      <th></th>\n",
       "      <th>Unnamed: 0</th>\n",
       "      <th>srNo</th>\n",
       "      <th>enrollmentNumber</th>\n",
       "      <th>admissionNumber</th>\n",
       "      <th>studentName</th>\n",
       "    </tr>\n",
       "  </thead>\n",
       "  <tbody>\n",
       "    <tr>\n",
       "      <td>0</td>\n",
       "      <td>0</td>\n",
       "      <td>1</td>\n",
       "      <td>1613101016</td>\n",
       "      <td>16SCSE101757</td>\n",
       "      <td>AAYUSH  TYAGI</td>\n",
       "    </tr>\n",
       "    <tr>\n",
       "      <td>1</td>\n",
       "      <td>1</td>\n",
       "      <td>2</td>\n",
       "      <td>1613101026</td>\n",
       "      <td>16SCSE101415</td>\n",
       "      <td>ABHISHEK</td>\n",
       "    </tr>\n",
       "    <tr>\n",
       "      <td>2</td>\n",
       "      <td>2</td>\n",
       "      <td>3</td>\n",
       "      <td>1613101051</td>\n",
       "      <td>16SCSE101222</td>\n",
       "      <td>ADITI  SINGH</td>\n",
       "    </tr>\n",
       "    <tr>\n",
       "      <td>3</td>\n",
       "      <td>3</td>\n",
       "      <td>4</td>\n",
       "      <td>1613101054</td>\n",
       "      <td>16SCSE101220</td>\n",
       "      <td>ADITYA  MANKAR</td>\n",
       "    </tr>\n",
       "    <tr>\n",
       "      <td>4</td>\n",
       "      <td>4</td>\n",
       "      <td>5</td>\n",
       "      <td>1613101079</td>\n",
       "      <td>16SCSE101085</td>\n",
       "      <td>AKASH  KANSAL</td>\n",
       "    </tr>\n",
       "  </tbody>\n",
       "</table>\n",
       "</div>"
      ],
      "text/plain": [
       "   Unnamed: 0  srNo  enrollmentNumber admissionNumber     studentName\n",
       "0           0     1        1613101016    16SCSE101757   AAYUSH  TYAGI\n",
       "1           1     2        1613101026    16SCSE101415        ABHISHEK\n",
       "2           2     3        1613101051    16SCSE101222    ADITI  SINGH\n",
       "3           3     4        1613101054    16SCSE101220  ADITYA  MANKAR\n",
       "4           4     5        1613101079    16SCSE101085   AKASH  KANSAL"
      ]
     },
     "execution_count": 843,
     "metadata": {},
     "output_type": "execute_result"
    }
   ],
   "source": [
    "\n",
    "for file in dirs:\n",
    "    print(content)\n",
    "    if(file==content):\n",
    "        path=r'C:\\Users\\arshad\\Downloads\\Python Assingment 3\\Prob1\\batchwiselist'\n",
    "        path=path +\"/\" +file\n",
    "        csv=pd.read_csv(path)\n",
    "        break;\n",
    "    else:\n",
    "        print(\"file not found\")\n",
    "csv.head()"
   ]
  },
  {
   "cell_type": "markdown",
   "metadata": {},
   "source": [
    "__Dropping column which are not required from csv__\n"
   ]
  },
  {
   "cell_type": "code",
   "execution_count": 844,
   "metadata": {},
   "outputs": [],
   "source": [
    "csv=csv.drop(columns=['Unnamed: 0','srNo','enrollmentNumber','admissionNumber'])"
   ]
  },
  {
   "cell_type": "markdown",
   "metadata": {},
   "source": [
    "__Merging csv and quiz dataframe__\n"
   ]
  },
  {
   "cell_type": "code",
   "execution_count": 845,
   "metadata": {},
   "outputs": [
    {
     "data": {
      "text/html": [
       "<div>\n",
       "<style scoped>\n",
       "    .dataframe tbody tr th:only-of-type {\n",
       "        vertical-align: middle;\n",
       "    }\n",
       "\n",
       "    .dataframe tbody tr th {\n",
       "        vertical-align: top;\n",
       "    }\n",
       "\n",
       "    .dataframe thead th {\n",
       "        text-align: right;\n",
       "    }\n",
       "</style>\n",
       "<table border=\"1\" class=\"dataframe\">\n",
       "  <thead>\n",
       "    <tr style=\"text-align: right;\">\n",
       "      <th></th>\n",
       "      <th>studentName</th>\n",
       "      <th>Firstname</th>\n",
       "      <th>Grade/10.00</th>\n",
       "    </tr>\n",
       "  </thead>\n",
       "  <tbody>\n",
       "    <tr>\n",
       "      <td>0</td>\n",
       "      <td>AAYUSH  TYAGI</td>\n",
       "      <td>AAYUSH  TYAGI</td>\n",
       "      <td>5</td>\n",
       "    </tr>\n",
       "    <tr>\n",
       "      <td>1</td>\n",
       "      <td>ABHISHEK</td>\n",
       "      <td>ABHISHEK</td>\n",
       "      <td>7</td>\n",
       "    </tr>\n",
       "    <tr>\n",
       "      <td>2</td>\n",
       "      <td>ADITI  SINGH</td>\n",
       "      <td>ADITI  SINGH</td>\n",
       "      <td>5</td>\n",
       "    </tr>\n",
       "    <tr>\n",
       "      <td>3</td>\n",
       "      <td>ADITYA  MANKAR</td>\n",
       "      <td>ADITYA  MANKAR</td>\n",
       "      <td>7</td>\n",
       "    </tr>\n",
       "    <tr>\n",
       "      <td>4</td>\n",
       "      <td>Aman  Pandey</td>\n",
       "      <td>Aman  Pandey</td>\n",
       "      <td>5</td>\n",
       "    </tr>\n",
       "  </tbody>\n",
       "</table>\n",
       "</div>"
      ],
      "text/plain": [
       "      studentName       Firstname Grade/10.00\n",
       "0   AAYUSH  TYAGI   AAYUSH  TYAGI           5\n",
       "1        ABHISHEK        ABHISHEK           7\n",
       "2    ADITI  SINGH    ADITI  SINGH           5\n",
       "3  ADITYA  MANKAR  ADITYA  MANKAR           7\n",
       "4    Aman  Pandey    Aman  Pandey           5"
      ]
     },
     "execution_count": 845,
     "metadata": {},
     "output_type": "execute_result"
    }
   ],
   "source": [
    "Csv1_Quiz1=pd.merge(csv,Quiz1,left_on='studentName',right_on=\"Firstname\")\n",
    "Csv1_Quiz1.head()"
   ]
  },
  {
   "cell_type": "markdown",
   "metadata": {},
   "source": [
    "__Converting Grade/10.00 to int__"
   ]
  },
  {
   "cell_type": "code",
   "execution_count": 846,
   "metadata": {},
   "outputs": [],
   "source": [
    "Csv1_Quiz1['Grade/10.00']=Csv1_Quiz1['Grade/10.00'].apply(pd.to_numeric,errors='coerce')\n",
    "Csv1_Quiz1['Grade/10.00']=Csv1_Quiz1['Grade/10.00'].astype('int64')"
   ]
  },
  {
   "cell_type": "code",
   "execution_count": 847,
   "metadata": {},
   "outputs": [
    {
     "data": {
      "text/plain": [
       "10    16\n",
       "5     10\n",
       "7      5\n",
       "3      5\n",
       "6      4\n",
       "8      3\n",
       "9      1\n",
       "4      1\n",
       "2      1\n",
       "Name: Grade/10.00, dtype: int64"
      ]
     },
     "execution_count": 847,
     "metadata": {},
     "output_type": "execute_result"
    }
   ],
   "source": [
    "Csv1_Quiz1['Grade/10.00'].value_counts()"
   ]
  },
  {
   "cell_type": "code",
   "execution_count": 848,
   "metadata": {},
   "outputs": [],
   "source": [
    "#Final['Grade/10.00']\n"
   ]
  },
  {
   "cell_type": "markdown",
   "metadata": {},
   "source": [
    "__Taking out values which are greater than 80__"
   ]
  },
  {
   "cell_type": "code",
   "execution_count": 849,
   "metadata": {},
   "outputs": [],
   "source": [
    "Greater_dan_80=Csv1_Quiz1[Csv1_Quiz1['Grade/10.00'] >8].count()"
   ]
  },
  {
   "cell_type": "code",
   "execution_count": 850,
   "metadata": {},
   "outputs": [],
   "source": [
    "Greater_dan_80=Greater_dan_80[1]"
   ]
  },
  {
   "cell_type": "code",
   "execution_count": 851,
   "metadata": {},
   "outputs": [
    {
     "data": {
      "text/plain": [
       "17"
      ]
     },
     "execution_count": 851,
     "metadata": {},
     "output_type": "execute_result"
    }
   ],
   "source": [
    "Greater_dan_80"
   ]
  },
  {
   "cell_type": "markdown",
   "metadata": {},
   "source": [
    "__Store the greater values in (Variable) Output_txt and convert that into Dataframe__"
   ]
  },
  {
   "cell_type": "code",
   "execution_count": null,
   "metadata": {},
   "outputs": [],
   "source": []
  },
  {
   "cell_type": "code",
   "execution_count": 852,
   "metadata": {},
   "outputs": [],
   "source": [
    "#Output_txt = Output_txt.loc[:,~df.columns.duplicated()]"
   ]
  },
  {
   "cell_type": "code",
   "execution_count": 853,
   "metadata": {},
   "outputs": [],
   "source": [
    "# create a empty Dataframe with column=value and index 1,2\n",
    "Output_txt=pd.DataFrame(index=[1,2],columns=['Values'])\n"
   ]
  },
  {
   "cell_type": "code",
   "execution_count": 854,
   "metadata": {},
   "outputs": [],
   "source": [
    "Output_txt.loc[1]=Greater_dan_80"
   ]
  },
  {
   "cell_type": "markdown",
   "metadata": {},
   "source": [
    "Output_txt"
   ]
  },
  {
   "cell_type": "markdown",
   "metadata": {},
   "source": [
    "# CSV_1 Quiz_2"
   ]
  },
  {
   "cell_type": "markdown",
   "metadata": {},
   "source": [
    "__Merging csv and Quiz2 Dataframe__\n"
   ]
  },
  {
   "cell_type": "code",
   "execution_count": 855,
   "metadata": {},
   "outputs": [
    {
     "data": {
      "text/html": [
       "<div>\n",
       "<style scoped>\n",
       "    .dataframe tbody tr th:only-of-type {\n",
       "        vertical-align: middle;\n",
       "    }\n",
       "\n",
       "    .dataframe tbody tr th {\n",
       "        vertical-align: top;\n",
       "    }\n",
       "\n",
       "    .dataframe thead th {\n",
       "        text-align: right;\n",
       "    }\n",
       "</style>\n",
       "<table border=\"1\" class=\"dataframe\">\n",
       "  <thead>\n",
       "    <tr style=\"text-align: right;\">\n",
       "      <th></th>\n",
       "      <th>studentName</th>\n",
       "      <th>Firstname</th>\n",
       "      <th>Grade/10.00</th>\n",
       "    </tr>\n",
       "  </thead>\n",
       "  <tbody>\n",
       "    <tr>\n",
       "      <td>0</td>\n",
       "      <td>AAYUSH  TYAGI</td>\n",
       "      <td>AAYUSH  TYAGI</td>\n",
       "      <td>10</td>\n",
       "    </tr>\n",
       "    <tr>\n",
       "      <td>1</td>\n",
       "      <td>ABHISHEK</td>\n",
       "      <td>ABHISHEK</td>\n",
       "      <td>10</td>\n",
       "    </tr>\n",
       "    <tr>\n",
       "      <td>2</td>\n",
       "      <td>ADITI  SINGH</td>\n",
       "      <td>ADITI  SINGH</td>\n",
       "      <td>9</td>\n",
       "    </tr>\n",
       "    <tr>\n",
       "      <td>3</td>\n",
       "      <td>ADITYA  MANKAR</td>\n",
       "      <td>ADITYA  MANKAR</td>\n",
       "      <td>8</td>\n",
       "    </tr>\n",
       "    <tr>\n",
       "      <td>4</td>\n",
       "      <td>Aman  Pandey</td>\n",
       "      <td>Aman  Pandey</td>\n",
       "      <td>10</td>\n",
       "    </tr>\n",
       "  </tbody>\n",
       "</table>\n",
       "</div>"
      ],
      "text/plain": [
       "      studentName       Firstname Grade/10.00\n",
       "0   AAYUSH  TYAGI   AAYUSH  TYAGI          10\n",
       "1        ABHISHEK        ABHISHEK          10\n",
       "2    ADITI  SINGH    ADITI  SINGH           9\n",
       "3  ADITYA  MANKAR  ADITYA  MANKAR           8\n",
       "4    Aman  Pandey    Aman  Pandey          10"
      ]
     },
     "execution_count": 855,
     "metadata": {},
     "output_type": "execute_result"
    }
   ],
   "source": [
    "Csv1_Quiz2=pd.merge(csv,Quiz2,left_on='studentName',right_on='Firstname')\n",
    "Csv1_Quiz2.head()"
   ]
  },
  {
   "cell_type": "code",
   "execution_count": 856,
   "metadata": {},
   "outputs": [],
   "source": [
    "#Csv1_Quiz2=Csv1_Quiz2.drop(columns=['Unnamed: 0','srNo','enrollmentNumber','admissionNumber','Firstname'])\n"
   ]
  },
  {
   "cell_type": "code",
   "execution_count": 857,
   "metadata": {},
   "outputs": [
    {
     "data": {
      "text/html": [
       "<div>\n",
       "<style scoped>\n",
       "    .dataframe tbody tr th:only-of-type {\n",
       "        vertical-align: middle;\n",
       "    }\n",
       "\n",
       "    .dataframe tbody tr th {\n",
       "        vertical-align: top;\n",
       "    }\n",
       "\n",
       "    .dataframe thead th {\n",
       "        text-align: right;\n",
       "    }\n",
       "</style>\n",
       "<table border=\"1\" class=\"dataframe\">\n",
       "  <thead>\n",
       "    <tr style=\"text-align: right;\">\n",
       "      <th></th>\n",
       "      <th>studentName</th>\n",
       "      <th>Firstname</th>\n",
       "      <th>Grade/10.00</th>\n",
       "    </tr>\n",
       "  </thead>\n",
       "  <tbody>\n",
       "    <tr>\n",
       "      <td>0</td>\n",
       "      <td>AAYUSH  TYAGI</td>\n",
       "      <td>AAYUSH  TYAGI</td>\n",
       "      <td>10</td>\n",
       "    </tr>\n",
       "    <tr>\n",
       "      <td>1</td>\n",
       "      <td>ABHISHEK</td>\n",
       "      <td>ABHISHEK</td>\n",
       "      <td>10</td>\n",
       "    </tr>\n",
       "    <tr>\n",
       "      <td>2</td>\n",
       "      <td>ADITI  SINGH</td>\n",
       "      <td>ADITI  SINGH</td>\n",
       "      <td>9</td>\n",
       "    </tr>\n",
       "    <tr>\n",
       "      <td>3</td>\n",
       "      <td>ADITYA  MANKAR</td>\n",
       "      <td>ADITYA  MANKAR</td>\n",
       "      <td>8</td>\n",
       "    </tr>\n",
       "    <tr>\n",
       "      <td>4</td>\n",
       "      <td>Aman  Pandey</td>\n",
       "      <td>Aman  Pandey</td>\n",
       "      <td>10</td>\n",
       "    </tr>\n",
       "  </tbody>\n",
       "</table>\n",
       "</div>"
      ],
      "text/plain": [
       "      studentName       Firstname Grade/10.00\n",
       "0   AAYUSH  TYAGI   AAYUSH  TYAGI          10\n",
       "1        ABHISHEK        ABHISHEK          10\n",
       "2    ADITI  SINGH    ADITI  SINGH           9\n",
       "3  ADITYA  MANKAR  ADITYA  MANKAR           8\n",
       "4    Aman  Pandey    Aman  Pandey          10"
      ]
     },
     "execution_count": 857,
     "metadata": {},
     "output_type": "execute_result"
    }
   ],
   "source": [
    "Csv1_Quiz2.head()"
   ]
  },
  {
   "cell_type": "markdown",
   "metadata": {},
   "source": [
    "__Converting grade Column to int__"
   ]
  },
  {
   "cell_type": "code",
   "execution_count": 858,
   "metadata": {},
   "outputs": [],
   "source": [
    "Csv1_Quiz2['Grade/10.00']=Csv1_Quiz2['Grade/10.00'].apply(pd.to_numeric,errors='coerce')\n",
    "Csv1_Quiz2['Grade/10.00'].isnull().sum()\n",
    "Csv1_Quiz2['Grade/10.00']=Csv1_Quiz2['Grade/10.00'].astype('int64')"
   ]
  },
  {
   "cell_type": "markdown",
   "metadata": {},
   "source": [
    "__Filter value which are less than 50__"
   ]
  },
  {
   "cell_type": "code",
   "execution_count": 859,
   "metadata": {},
   "outputs": [
    {
     "name": "stdout",
     "output_type": "stream",
     "text": [
      "4\n"
     ]
    }
   ],
   "source": [
    "Greater_dan_80=Csv1_Quiz2[Csv1_Quiz2['Grade/10.00'] < 5].count()\n",
    "Greater_dan_80=Greater_dan_80['Grade/10.00']\n",
    "print(Greater_dan_80)"
   ]
  },
  {
   "cell_type": "markdown",
   "metadata": {},
   "source": [
    "__Appedning value of a to dataframe Output_txt at explicit index location 2__ "
   ]
  },
  {
   "cell_type": "code",
   "execution_count": 860,
   "metadata": {},
   "outputs": [],
   "source": [
    "Output_txt.loc[2]=Greater_dan_80"
   ]
  },
  {
   "cell_type": "code",
   "execution_count": 861,
   "metadata": {},
   "outputs": [
    {
     "data": {
      "text/html": [
       "<div>\n",
       "<style scoped>\n",
       "    .dataframe tbody tr th:only-of-type {\n",
       "        vertical-align: middle;\n",
       "    }\n",
       "\n",
       "    .dataframe tbody tr th {\n",
       "        vertical-align: top;\n",
       "    }\n",
       "\n",
       "    .dataframe thead th {\n",
       "        text-align: right;\n",
       "    }\n",
       "</style>\n",
       "<table border=\"1\" class=\"dataframe\">\n",
       "  <thead>\n",
       "    <tr style=\"text-align: right;\">\n",
       "      <th></th>\n",
       "      <th>Values</th>\n",
       "    </tr>\n",
       "  </thead>\n",
       "  <tbody>\n",
       "    <tr>\n",
       "      <td>1</td>\n",
       "      <td>17</td>\n",
       "    </tr>\n",
       "    <tr>\n",
       "      <td>2</td>\n",
       "      <td>4</td>\n",
       "    </tr>\n",
       "  </tbody>\n",
       "</table>\n",
       "</div>"
      ],
      "text/plain": [
       "   Values\n",
       "1      17\n",
       "2       4"
      ]
     },
     "execution_count": 861,
     "metadata": {},
     "output_type": "execute_result"
    }
   ],
   "source": [
    "Output_txt"
   ]
  },
  {
   "cell_type": "code",
   "execution_count": null,
   "metadata": {},
   "outputs": [],
   "source": []
  },
  {
   "cell_type": "markdown",
   "metadata": {},
   "source": [
    "# Creating a file called output1.txt..... Writing output_txt value to output1.txt  "
   ]
  },
  {
   "cell_type": "code",
   "execution_count": 862,
   "metadata": {},
   "outputs": [],
   "source": [
    "with open(r'C:\\Users\\arshad\\Downloads\\Python Assingment 3\\Prob1\\Output1.txt', 'w') as f:\n",
    "    f.write(Output_txt.to_csv(header = False, index = False))"
   ]
  },
  {
   "cell_type": "markdown",
   "metadata": {},
   "source": [
    "# CSV_9_Quiz_1"
   ]
  },
  {
   "cell_type": "code",
   "execution_count": 863,
   "metadata": {},
   "outputs": [
    {
     "data": {
      "text/html": [
       "<div>\n",
       "<style scoped>\n",
       "    .dataframe tbody tr th:only-of-type {\n",
       "        vertical-align: middle;\n",
       "    }\n",
       "\n",
       "    .dataframe tbody tr th {\n",
       "        vertical-align: top;\n",
       "    }\n",
       "\n",
       "    .dataframe thead th {\n",
       "        text-align: right;\n",
       "    }\n",
       "</style>\n",
       "<table border=\"1\" class=\"dataframe\">\n",
       "  <thead>\n",
       "    <tr style=\"text-align: right;\">\n",
       "      <th></th>\n",
       "      <th>0</th>\n",
       "    </tr>\n",
       "  </thead>\n",
       "  <tbody>\n",
       "    <tr>\n",
       "      <td>0</td>\n",
       "      <td>2</td>\n",
       "    </tr>\n",
       "    <tr>\n",
       "      <td>1</td>\n",
       "      <td>1.csv</td>\n",
       "    </tr>\n",
       "    <tr>\n",
       "      <td>2</td>\n",
       "      <td>greaterthan80</td>\n",
       "    </tr>\n",
       "    <tr>\n",
       "      <td>3</td>\n",
       "      <td>9.csv</td>\n",
       "    </tr>\n",
       "    <tr>\n",
       "      <td>4</td>\n",
       "      <td>lessthan50</td>\n",
       "    </tr>\n",
       "  </tbody>\n",
       "</table>\n",
       "</div>"
      ],
      "text/plain": [
       "               0\n",
       "0              2\n",
       "1          1.csv\n",
       "2  greaterthan80\n",
       "3          9.csv\n",
       "4     lessthan50"
      ]
     },
     "execution_count": 863,
     "metadata": {},
     "output_type": "execute_result"
    }
   ],
   "source": [
    "TestCase"
   ]
  },
  {
   "cell_type": "code",
   "execution_count": 864,
   "metadata": {},
   "outputs": [
    {
     "name": "stdout",
     "output_type": "stream",
     "text": [
      "0    9.csv\n",
      "Name: 3, dtype: object\n"
     ]
    }
   ],
   "source": [
    "Content3=TestCase.iloc[3]\n",
    "print(Content3)"
   ]
  },
  {
   "cell_type": "code",
   "execution_count": 865,
   "metadata": {},
   "outputs": [
    {
     "name": "stdout",
     "output_type": "stream",
     "text": [
      "0    9.csv\n",
      "Name: 3, dtype: object\n"
     ]
    }
   ],
   "source": [
    "Content_3=Content3[0]\n",
    "print(Content3)"
   ]
  },
  {
   "cell_type": "code",
   "execution_count": 866,
   "metadata": {},
   "outputs": [
    {
     "name": "stdout",
     "output_type": "stream",
     "text": [
      "9.csv\n"
     ]
    }
   ],
   "source": [
    "print(Content_3)\n"
   ]
  },
  {
   "cell_type": "code",
   "execution_count": 867,
   "metadata": {},
   "outputs": [
    {
     "name": "stdout",
     "output_type": "stream",
     "text": [
      "['1.csv', '10.csv', '11.csv', '12.csv', '13.csv', '14.csv', '15.csv', '16.csv', '17.csv', '18.csv', '19.csv', '2.csv', '3.csv', '4.csv', '5.csv', '6.csv', '7.csv', '8.csv', '9.csv']\n",
      "file not found\n",
      "file not found\n",
      "file not found\n",
      "file not found\n",
      "file not found\n",
      "file not found\n",
      "file not found\n",
      "file not found\n",
      "file not found\n",
      "file not found\n",
      "file not found\n",
      "file not found\n",
      "file not found\n",
      "file not found\n",
      "file not found\n",
      "file not found\n",
      "file not found\n",
      "file not found\n",
      "\n",
      "\n",
      "File Found..! 9.csv\n"
     ]
    },
    {
     "data": {
      "text/html": [
       "<div>\n",
       "<style scoped>\n",
       "    .dataframe tbody tr th:only-of-type {\n",
       "        vertical-align: middle;\n",
       "    }\n",
       "\n",
       "    .dataframe tbody tr th {\n",
       "        vertical-align: top;\n",
       "    }\n",
       "\n",
       "    .dataframe thead th {\n",
       "        text-align: right;\n",
       "    }\n",
       "</style>\n",
       "<table border=\"1\" class=\"dataframe\">\n",
       "  <thead>\n",
       "    <tr style=\"text-align: right;\">\n",
       "      <th></th>\n",
       "      <th>Unnamed: 0</th>\n",
       "      <th>srNo</th>\n",
       "      <th>enrollmentNumber</th>\n",
       "      <th>admissionNumber</th>\n",
       "      <th>studentName</th>\n",
       "    </tr>\n",
       "  </thead>\n",
       "  <tbody>\n",
       "    <tr>\n",
       "      <td>0</td>\n",
       "      <td>0</td>\n",
       "      <td>1</td>\n",
       "      <td>1613101009</td>\n",
       "      <td>16SCSE101379</td>\n",
       "      <td>AANCHAL</td>\n",
       "    </tr>\n",
       "    <tr>\n",
       "      <td>1</td>\n",
       "      <td>2</td>\n",
       "      <td>3</td>\n",
       "      <td>1613101050</td>\n",
       "      <td>16SCSE101650</td>\n",
       "      <td>ADARSH</td>\n",
       "    </tr>\n",
       "    <tr>\n",
       "      <td>2</td>\n",
       "      <td>3</td>\n",
       "      <td>4</td>\n",
       "      <td>1613101084</td>\n",
       "      <td>16SCSE101741</td>\n",
       "      <td>AKASH KUMAR SAHANI</td>\n",
       "    </tr>\n",
       "    <tr>\n",
       "      <td>3</td>\n",
       "      <td>4</td>\n",
       "      <td>5</td>\n",
       "      <td>1613101124</td>\n",
       "      <td>16SCSE101871</td>\n",
       "      <td>ANAND KUMAR JAISWAL</td>\n",
       "    </tr>\n",
       "    <tr>\n",
       "      <td>4</td>\n",
       "      <td>5</td>\n",
       "      <td>6</td>\n",
       "      <td>1613101877</td>\n",
       "      <td>17SCSE101938</td>\n",
       "      <td>ANIRUDH  SINGH</td>\n",
       "    </tr>\n",
       "  </tbody>\n",
       "</table>\n",
       "</div>"
      ],
      "text/plain": [
       "   Unnamed: 0  srNo  enrollmentNumber admissionNumber          studentName\n",
       "0           0     1        1613101009    16SCSE101379              AANCHAL\n",
       "1           2     3        1613101050    16SCSE101650               ADARSH\n",
       "2           3     4        1613101084    16SCSE101741   AKASH KUMAR SAHANI\n",
       "3           4     5        1613101124    16SCSE101871  ANAND KUMAR JAISWAL\n",
       "4           5     6        1613101877    17SCSE101938       ANIRUDH  SINGH"
      ]
     },
     "execution_count": 867,
     "metadata": {},
     "output_type": "execute_result"
    }
   ],
   "source": [
    "print(dirs)\n",
    "\n",
    "for file in dirs:\n",
    "    if(file==Content_3):\n",
    "        print(\"\\n\\nFile Found..!\",file)\n",
    "        path=r'C:\\Users\\arshad\\Downloads\\Python Assingment 3\\Prob1\\batchwiselist'\n",
    "        path=path +\"/\" +file        \n",
    "        csv9=pd.read_csv(path)\n",
    "        break;\n",
    "    else:\n",
    "        print(\"file not found\")\n",
    "      \n",
    "csv9.head()"
   ]
  },
  {
   "cell_type": "code",
   "execution_count": 868,
   "metadata": {},
   "outputs": [],
   "source": [
    "Csv_9_Quiz1=pd.merge(csv9,Quiz1,left_on='studentName',right_on='Firstname')"
   ]
  },
  {
   "cell_type": "code",
   "execution_count": 869,
   "metadata": {},
   "outputs": [],
   "source": [
    "Csv_9_Quiz1=Csv_9_Quiz1.drop(columns=['Unnamed: 0','srNo','enrollmentNumber','admissionNumber','Firstname'])\n"
   ]
  },
  {
   "cell_type": "code",
   "execution_count": 870,
   "metadata": {},
   "outputs": [
    {
     "data": {
      "text/html": [
       "<div>\n",
       "<style scoped>\n",
       "    .dataframe tbody tr th:only-of-type {\n",
       "        vertical-align: middle;\n",
       "    }\n",
       "\n",
       "    .dataframe tbody tr th {\n",
       "        vertical-align: top;\n",
       "    }\n",
       "\n",
       "    .dataframe thead th {\n",
       "        text-align: right;\n",
       "    }\n",
       "</style>\n",
       "<table border=\"1\" class=\"dataframe\">\n",
       "  <thead>\n",
       "    <tr style=\"text-align: right;\">\n",
       "      <th></th>\n",
       "      <th>studentName</th>\n",
       "      <th>Grade/10.00</th>\n",
       "    </tr>\n",
       "  </thead>\n",
       "  <tbody>\n",
       "    <tr>\n",
       "      <td>0</td>\n",
       "      <td>AANCHAL</td>\n",
       "      <td>4</td>\n",
       "    </tr>\n",
       "    <tr>\n",
       "      <td>1</td>\n",
       "      <td>AKASH KUMAR SAHANI</td>\n",
       "      <td>10</td>\n",
       "    </tr>\n",
       "    <tr>\n",
       "      <td>2</td>\n",
       "      <td>ANIRUDH  SINGH</td>\n",
       "      <td>5</td>\n",
       "    </tr>\n",
       "    <tr>\n",
       "      <td>3</td>\n",
       "      <td>ANKITA  YADAV</td>\n",
       "      <td>10</td>\n",
       "    </tr>\n",
       "    <tr>\n",
       "      <td>4</td>\n",
       "      <td>ANURAG  RAI</td>\n",
       "      <td>10</td>\n",
       "    </tr>\n",
       "  </tbody>\n",
       "</table>\n",
       "</div>"
      ],
      "text/plain": [
       "          studentName Grade/10.00\n",
       "0             AANCHAL           4\n",
       "1  AKASH KUMAR SAHANI          10\n",
       "2      ANIRUDH  SINGH           5\n",
       "3       ANKITA  YADAV          10\n",
       "4         ANURAG  RAI          10"
      ]
     },
     "execution_count": 870,
     "metadata": {},
     "output_type": "execute_result"
    }
   ],
   "source": [
    "Csv_9_Quiz1.head()"
   ]
  },
  {
   "cell_type": "code",
   "execution_count": 871,
   "metadata": {},
   "outputs": [],
   "source": [
    "Csv_9_Quiz1['Grade/10.00']=Csv_9_Quiz1['Grade/10.00'].apply(pd.to_numeric,errors='coerce')\n",
    "Csv_9_Quiz1['Grade/10.00'].isnull().sum()\n",
    "Csv_9_Quiz1['Grade/10.00']=Csv_9_Quiz1['Grade/10.00'].astype('int64')"
   ]
  },
  {
   "cell_type": "code",
   "execution_count": 872,
   "metadata": {},
   "outputs": [
    {
     "data": {
      "text/plain": [
       "6"
      ]
     },
     "execution_count": 872,
     "metadata": {},
     "output_type": "execute_result"
    }
   ],
   "source": [
    "Less_dan_50=Csv_9_Quiz1[Csv_9_Quiz1['Grade/10.00'] < 5].count()\n",
    "a=Less_dan_50['Grade/10.00']\n",
    "a"
   ]
  },
  {
   "cell_type": "code",
   "execution_count": 873,
   "metadata": {},
   "outputs": [],
   "source": [
    "Output_txt_2=pd.DataFrame(index=[1,2],columns=['Values'])\n"
   ]
  },
  {
   "cell_type": "code",
   "execution_count": 874,
   "metadata": {},
   "outputs": [],
   "source": [
    "Output_txt_2.loc[1]=a"
   ]
  },
  {
   "cell_type": "code",
   "execution_count": 875,
   "metadata": {},
   "outputs": [
    {
     "data": {
      "text/html": [
       "<div>\n",
       "<style scoped>\n",
       "    .dataframe tbody tr th:only-of-type {\n",
       "        vertical-align: middle;\n",
       "    }\n",
       "\n",
       "    .dataframe tbody tr th {\n",
       "        vertical-align: top;\n",
       "    }\n",
       "\n",
       "    .dataframe thead th {\n",
       "        text-align: right;\n",
       "    }\n",
       "</style>\n",
       "<table border=\"1\" class=\"dataframe\">\n",
       "  <thead>\n",
       "    <tr style=\"text-align: right;\">\n",
       "      <th></th>\n",
       "      <th>Values</th>\n",
       "    </tr>\n",
       "  </thead>\n",
       "  <tbody>\n",
       "    <tr>\n",
       "      <td>1</td>\n",
       "      <td>6</td>\n",
       "    </tr>\n",
       "    <tr>\n",
       "      <td>2</td>\n",
       "      <td>NaN</td>\n",
       "    </tr>\n",
       "  </tbody>\n",
       "</table>\n",
       "</div>"
      ],
      "text/plain": [
       "  Values\n",
       "1      6\n",
       "2    NaN"
      ]
     },
     "execution_count": 875,
     "metadata": {},
     "output_type": "execute_result"
    }
   ],
   "source": [
    "Output_txt_2"
   ]
  },
  {
   "cell_type": "markdown",
   "metadata": {},
   "source": [
    "# CSV_9 Quiz_2"
   ]
  },
  {
   "cell_type": "code",
   "execution_count": 876,
   "metadata": {},
   "outputs": [],
   "source": [
    "Csv_9_Quiz2=pd.merge(csv9,Quiz2,left_on='studentName',right_on='Firstname')"
   ]
  },
  {
   "cell_type": "code",
   "execution_count": 877,
   "metadata": {},
   "outputs": [],
   "source": [
    "#Csv_9_Quiz2=Csv_9_Quiz2.drop(columns=['Unnamed: 0','srNo','enrollmentNumber','admissionNumber','Firstname'])\n"
   ]
  },
  {
   "cell_type": "code",
   "execution_count": 878,
   "metadata": {},
   "outputs": [],
   "source": [
    "Csv_9_Quiz2['Grade/10.00']=Csv_9_Quiz2['Grade/10.00'].apply(pd.to_numeric,errors='coerce')\n",
    "Csv_9_Quiz2['Grade/10.00'].isnull().sum()\n",
    "Csv_9_Quiz2['Grade/10.00']=Csv_9_Quiz2['Grade/10.00'].astype('int64')"
   ]
  },
  {
   "cell_type": "code",
   "execution_count": 879,
   "metadata": {},
   "outputs": [
    {
     "data": {
      "text/plain": [
       "12"
      ]
     },
     "execution_count": 879,
     "metadata": {},
     "output_type": "execute_result"
    }
   ],
   "source": [
    "Less_dan_50=Csv_9_Quiz2[Csv_9_Quiz2['Grade/10.00'] < 5].count()\n",
    "a=Less_dan_50['Grade/10.00']\n",
    "a"
   ]
  },
  {
   "cell_type": "code",
   "execution_count": 880,
   "metadata": {},
   "outputs": [],
   "source": [
    "Output_txt_2.loc[2]=a"
   ]
  },
  {
   "cell_type": "code",
   "execution_count": 881,
   "metadata": {},
   "outputs": [
    {
     "data": {
      "text/html": [
       "<div>\n",
       "<style scoped>\n",
       "    .dataframe tbody tr th:only-of-type {\n",
       "        vertical-align: middle;\n",
       "    }\n",
       "\n",
       "    .dataframe tbody tr th {\n",
       "        vertical-align: top;\n",
       "    }\n",
       "\n",
       "    .dataframe thead th {\n",
       "        text-align: right;\n",
       "    }\n",
       "</style>\n",
       "<table border=\"1\" class=\"dataframe\">\n",
       "  <thead>\n",
       "    <tr style=\"text-align: right;\">\n",
       "      <th></th>\n",
       "      <th>Values</th>\n",
       "    </tr>\n",
       "  </thead>\n",
       "  <tbody>\n",
       "    <tr>\n",
       "      <td>1</td>\n",
       "      <td>6</td>\n",
       "    </tr>\n",
       "    <tr>\n",
       "      <td>2</td>\n",
       "      <td>12</td>\n",
       "    </tr>\n",
       "  </tbody>\n",
       "</table>\n",
       "</div>"
      ],
      "text/plain": [
       "   Values\n",
       "1       6\n",
       "2      12"
      ]
     },
     "execution_count": 881,
     "metadata": {},
     "output_type": "execute_result"
    }
   ],
   "source": [
    "Output_txt_2\n"
   ]
  },
  {
   "cell_type": "code",
   "execution_count": 882,
   "metadata": {},
   "outputs": [],
   "source": [
    "with open(r'C:\\Users\\arshad\\Downloads\\Python Assingment 3\\Prob1\\Output2.txt', 'w') as f:\n",
    "    f.write(Output_txt_2.to_csv(header = False, index = False))"
   ]
  },
  {
   "cell_type": "markdown",
   "metadata": {},
   "source": [
    "__X_________________________________________________________________________________________________________________ __X__"
   ]
  },
  {
   "cell_type": "markdown",
   "metadata": {},
   "source": [
    "# TiTanic Dataset "
   ]
  },
  {
   "cell_type": "code",
   "execution_count": 4,
   "metadata": {},
   "outputs": [],
   "source": [
    "import seaborn as sns\n",
    "import matplotlib.pyplot as plt"
   ]
  },
  {
   "cell_type": "code",
   "execution_count": 24,
   "metadata": {},
   "outputs": [],
   "source": [
    "Titanic_df=pd.read_csv(r\"C:\\Users\\arshad\\Downloads\\titanic-datasets\\train.csv\")"
   ]
  },
  {
   "cell_type": "code",
   "execution_count": 53,
   "metadata": {},
   "outputs": [
    {
     "data": {
      "text/html": [
       "<div>\n",
       "<style scoped>\n",
       "    .dataframe tbody tr th:only-of-type {\n",
       "        vertical-align: middle;\n",
       "    }\n",
       "\n",
       "    .dataframe tbody tr th {\n",
       "        vertical-align: top;\n",
       "    }\n",
       "\n",
       "    .dataframe thead th {\n",
       "        text-align: right;\n",
       "    }\n",
       "</style>\n",
       "<table border=\"1\" class=\"dataframe\">\n",
       "  <thead>\n",
       "    <tr style=\"text-align: right;\">\n",
       "      <th></th>\n",
       "      <th>PassengerId</th>\n",
       "      <th>Survived</th>\n",
       "      <th>Pclass</th>\n",
       "      <th>Name</th>\n",
       "      <th>Sex</th>\n",
       "      <th>Age</th>\n",
       "      <th>SibSp</th>\n",
       "      <th>Parch</th>\n",
       "      <th>Ticket</th>\n",
       "      <th>Fare</th>\n",
       "      <th>Cabin</th>\n",
       "      <th>Embarked</th>\n",
       "    </tr>\n",
       "  </thead>\n",
       "  <tbody>\n",
       "    <tr>\n",
       "      <td>886</td>\n",
       "      <td>887</td>\n",
       "      <td>0</td>\n",
       "      <td>2</td>\n",
       "      <td>Montvila, Rev. Juozas</td>\n",
       "      <td>male</td>\n",
       "      <td>27.000000</td>\n",
       "      <td>0</td>\n",
       "      <td>0</td>\n",
       "      <td>211536</td>\n",
       "      <td>13.00</td>\n",
       "      <td>0</td>\n",
       "      <td>S</td>\n",
       "    </tr>\n",
       "    <tr>\n",
       "      <td>887</td>\n",
       "      <td>888</td>\n",
       "      <td>1</td>\n",
       "      <td>1</td>\n",
       "      <td>Graham, Miss. Margaret Edith</td>\n",
       "      <td>female</td>\n",
       "      <td>19.000000</td>\n",
       "      <td>0</td>\n",
       "      <td>0</td>\n",
       "      <td>112053</td>\n",
       "      <td>30.00</td>\n",
       "      <td>B42</td>\n",
       "      <td>S</td>\n",
       "    </tr>\n",
       "    <tr>\n",
       "      <td>888</td>\n",
       "      <td>889</td>\n",
       "      <td>0</td>\n",
       "      <td>3</td>\n",
       "      <td>Johnston, Miss. Catherine Helen \"Carrie\"</td>\n",
       "      <td>female</td>\n",
       "      <td>29.699118</td>\n",
       "      <td>1</td>\n",
       "      <td>2</td>\n",
       "      <td>W./C. 6607</td>\n",
       "      <td>23.45</td>\n",
       "      <td>0</td>\n",
       "      <td>S</td>\n",
       "    </tr>\n",
       "    <tr>\n",
       "      <td>889</td>\n",
       "      <td>890</td>\n",
       "      <td>1</td>\n",
       "      <td>1</td>\n",
       "      <td>Behr, Mr. Karl Howell</td>\n",
       "      <td>male</td>\n",
       "      <td>26.000000</td>\n",
       "      <td>0</td>\n",
       "      <td>0</td>\n",
       "      <td>111369</td>\n",
       "      <td>30.00</td>\n",
       "      <td>C148</td>\n",
       "      <td>C</td>\n",
       "    </tr>\n",
       "    <tr>\n",
       "      <td>890</td>\n",
       "      <td>891</td>\n",
       "      <td>0</td>\n",
       "      <td>3</td>\n",
       "      <td>Dooley, Mr. Patrick</td>\n",
       "      <td>male</td>\n",
       "      <td>32.000000</td>\n",
       "      <td>0</td>\n",
       "      <td>0</td>\n",
       "      <td>370376</td>\n",
       "      <td>7.75</td>\n",
       "      <td>0</td>\n",
       "      <td>Q</td>\n",
       "    </tr>\n",
       "  </tbody>\n",
       "</table>\n",
       "</div>"
      ],
      "text/plain": [
       "     PassengerId  Survived  Pclass                                      Name  \\\n",
       "886          887         0       2                     Montvila, Rev. Juozas   \n",
       "887          888         1       1              Graham, Miss. Margaret Edith   \n",
       "888          889         0       3  Johnston, Miss. Catherine Helen \"Carrie\"   \n",
       "889          890         1       1                     Behr, Mr. Karl Howell   \n",
       "890          891         0       3                       Dooley, Mr. Patrick   \n",
       "\n",
       "        Sex        Age  SibSp  Parch      Ticket   Fare Cabin Embarked  \n",
       "886    male  27.000000      0      0      211536  13.00     0        S  \n",
       "887  female  19.000000      0      0      112053  30.00   B42        S  \n",
       "888  female  29.699118      1      2  W./C. 6607  23.45     0        S  \n",
       "889    male  26.000000      0      0      111369  30.00  C148        C  \n",
       "890    male  32.000000      0      0      370376   7.75     0        Q  "
      ]
     },
     "execution_count": 53,
     "metadata": {},
     "output_type": "execute_result"
    }
   ],
   "source": [
    "\n",
    "Titanic_df.tail(5)"
   ]
  },
  {
   "cell_type": "code",
   "execution_count": 26,
   "metadata": {},
   "outputs": [
    {
     "data": {
      "text/plain": [
       "(891, 12)"
      ]
     },
     "execution_count": 26,
     "metadata": {},
     "output_type": "execute_result"
    }
   ],
   "source": [
    "Titanic_df.shape"
   ]
  },
  {
   "cell_type": "code",
   "execution_count": 14,
   "metadata": {},
   "outputs": [],
   "source": [
    "# In the above data --> Embarked meaning OnBoard --> \n",
    "# s represents Southampton \n",
    "# c represents Cherbourg and\n",
    "# Q represents Queenstown\n",
    "\n",
    "# P class Represents Passenger details\n",
    "\n",
    "# sibsp --> Sibling or spouse \n",
    "# Parch --> Parent or Children abroad"
   ]
  },
  {
   "cell_type": "code",
   "execution_count": 32,
   "metadata": {},
   "outputs": [
    {
     "data": {
      "text/plain": [
       "PassengerId      int64\n",
       "Survived         int64\n",
       "Pclass           int64\n",
       "Name            object\n",
       "Sex             object\n",
       "Age            float64\n",
       "SibSp            int64\n",
       "Parch            int64\n",
       "Ticket          object\n",
       "Fare           float64\n",
       "Cabin           object\n",
       "Embarked        object\n",
       "dtype: object"
      ]
     },
     "execution_count": 32,
     "metadata": {},
     "output_type": "execute_result"
    }
   ],
   "source": [
    "Titanic_df.dtypes"
   ]
  },
  {
   "cell_type": "code",
   "execution_count": 44,
   "metadata": {},
   "outputs": [
    {
     "data": {
      "text/plain": [
       "PassengerId    0\n",
       "Survived       0\n",
       "Pclass         0\n",
       "Name           0\n",
       "Sex            0\n",
       "Age            0\n",
       "SibSp          0\n",
       "Parch          0\n",
       "Ticket         0\n",
       "Fare           0\n",
       "Cabin          0\n",
       "Embarked       0\n",
       "dtype: int64"
      ]
     },
     "execution_count": 44,
     "metadata": {},
     "output_type": "execute_result"
    }
   ],
   "source": [
    "Titanic_df.isnull().sum()\n"
   ]
  },
  {
   "cell_type": "code",
   "execution_count": 29,
   "metadata": {},
   "outputs": [],
   "source": [
    "Titanic_df=Titanic_df.fillna(Titanic_df.mean())"
   ]
  },
  {
   "cell_type": "code",
   "execution_count": 43,
   "metadata": {},
   "outputs": [],
   "source": [
    "Titanic_df[['Cabin','Embarked']]=Titanic_df[['Cabin','Embarked']].fillna(0)"
   ]
  },
  {
   "cell_type": "code",
   "execution_count": 45,
   "metadata": {},
   "outputs": [
    {
     "data": {
      "text/plain": [
       "(891, 12)"
      ]
     },
     "execution_count": 45,
     "metadata": {},
     "output_type": "execute_result"
    }
   ],
   "source": [
    "Titanic_df.shape"
   ]
  },
  {
   "cell_type": "code",
   "execution_count": 47,
   "metadata": {},
   "outputs": [
    {
     "data": {
      "text/plain": [
       "891"
      ]
     },
     "execution_count": 47,
     "metadata": {},
     "output_type": "execute_result"
    }
   ],
   "source": [
    "Titanic_df['PassengerId'].size"
   ]
  },
  {
   "cell_type": "code",
   "execution_count": 48,
   "metadata": {},
   "outputs": [
    {
     "data": {
      "text/plain": [
       "0    549\n",
       "1    342\n",
       "Name: Survived, dtype: int64"
      ]
     },
     "execution_count": 48,
     "metadata": {},
     "output_type": "execute_result"
    }
   ],
   "source": [
    "Titanic_df['Survived'].value_counts()"
   ]
  },
  {
   "cell_type": "markdown",
   "metadata": {},
   "source": [
    "__CountPlot__\n"
   ]
  },
  {
   "cell_type": "code",
   "execution_count": 49,
   "metadata": {},
   "outputs": [
    {
     "data": {
      "text/plain": [
       "<matplotlib.axes._subplots.AxesSubplot at 0x28ca9a85808>"
      ]
     },
     "execution_count": 49,
     "metadata": {},
     "output_type": "execute_result"
    },
    {
     "data": {
      "image/png": "[encoded data removed]",
      "text/plain": [
       "<Figure size 432x288 with 1 Axes>"
      ]
     },
     "metadata": {
      "needs_background": "light"
     },
     "output_type": "display_data"
    }
   ],
   "source": [
    "sns.countplot(x='Survived',data=Titanic_df,hue='Survived',dodge=False)"
   ]
  },
  {
   "cell_type": "markdown",
   "metadata": {},
   "source": [
    "1 means People Survived and 0 means people died \n",
    "\n",
    "From the above graph we can see that most of the people died around 550 people died and approx 350 people Survived"
   ]
  },
  {
   "cell_type": "markdown",
   "metadata": {},
   "source": [
    "__Jointplot__"
   ]
  },
  {
   "cell_type": "code",
   "execution_count": 65,
   "metadata": {},
   "outputs": [
    {
     "data": {
      "text/plain": [
       "<seaborn.axisgrid.JointGrid at 0x28cabe10e08>"
      ]
     },
     "execution_count": 65,
     "metadata": {},
     "output_type": "execute_result"
    },
    {
     "data": {
      "image/png": "[encoded data removed]",
      "text/plain": [
       "<Figure size 432x432 with 3 Axes>"
      ]
     },
     "metadata": {
      "needs_background": "light"
     },
     "output_type": "display_data"
    }
   ],
   "source": [
    "sns.jointplot(x=Titanic_df['Pclass'],y=Titanic_df['Fare'],kind='scatter')"
   ]
  },
  {
   "cell_type": "markdown",
   "metadata": {},
   "source": [
    "In the above Scatter plot we can see that Fare of 1st class is more as compared to 2nd and 3rd class and most people travel throgh 1 class "
   ]
  },
  {
   "cell_type": "code",
   "execution_count": 187,
   "metadata": {},
   "outputs": [
    {
     "data": {
      "image/png": "[encoded data removed]",
      "text/plain": [
       "<Figure size 1080x360 with 1 Axes>"
      ]
     },
     "metadata": {
      "needs_background": "light"
     },
     "output_type": "display_data"
    }
   ],
   "source": [
    "plt.figure(figsize=(15,5))\n",
    "sns.distplot(Titanic_df['Age'],kde=False,bins=100);"
   ]
  },
  {
   "cell_type": "markdown",
   "metadata": {},
   "source": [
    "Here we can see that most of the people are in the Age of 18 to 40. where the maximum age is 80 "
   ]
  },
  {
   "cell_type": "markdown",
   "metadata": {},
   "source": [
    "__BoxPlot__"
   ]
  },
  {
   "cell_type": "code",
   "execution_count": 95,
   "metadata": {},
   "outputs": [
    {
     "data": {
      "text/plain": [
       "<matplotlib.axes._subplots.AxesSubplot at 0x28cad2357c8>"
      ]
     },
     "execution_count": 95,
     "metadata": {},
     "output_type": "execute_result"
    },
    {
     "data": {
      "image/png": "[encoded data removed]",
      "text/plain": [
       "<Figure size 432x288 with 1 Axes>"
      ]
     },
     "metadata": {
      "needs_background": "light"
     },
     "output_type": "display_data"
    }
   ],
   "source": [
    "sns.boxplot(x='Survived',y='Age',data=Titanic_df,hue='Sex')"
   ]
  },
  {
   "cell_type": "markdown",
   "metadata": {},
   "source": [
    "In the above graph the percentage of male survial is more as compared to female and the percentage of death of male is also more as compared to female\n",
    "\n",
    "and the number of male whos age is above 55 mostly died\n",
    "\n",
    "and the number of female whos age is above 48 mostly survived"
   ]
  },
  {
   "cell_type": "markdown",
   "metadata": {},
   "source": [
    "__SwarmPlot__"
   ]
  },
  {
   "cell_type": "code",
   "execution_count": 106,
   "metadata": {},
   "outputs": [
    {
     "data": {
      "text/plain": [
       "<matplotlib.axes._subplots.AxesSubplot at 0x28cad415708>"
      ]
     },
     "execution_count": 106,
     "metadata": {},
     "output_type": "execute_result"
    },
    {
     "data": {
      "image/png": "[encoded data removed]",
      "text/plain": [
       "<Figure size 432x288 with 1 Axes>"
      ]
     },
     "metadata": {
      "needs_background": "light"
     },
     "output_type": "display_data"
    }
   ],
   "source": [
    "sns.swarmplot(x='Embarked',y='PassengerId',data=Titanic_df,hue='Embarked')"
   ]
  },
  {
   "cell_type": "markdown",
   "metadata": {},
   "source": [
    "In this above graph People  who Embarked or Onboard from southampton are more followed by Cherbough and Queenstown. \n",
    "\n",
    "Only only people onboard from O\n",
    "\n",
    "s represents Southampton \n",
    "\n",
    "c represents Cherbourg and\n",
    "\n",
    "Q represents Queenstown"
   ]
  },
  {
   "cell_type": "code",
   "execution_count": 148,
   "metadata": {},
   "outputs": [
    {
     "data": {
      "text/html": [
       "<div>\n",
       "<style scoped>\n",
       "    .dataframe tbody tr th:only-of-type {\n",
       "        vertical-align: middle;\n",
       "    }\n",
       "\n",
       "    .dataframe tbody tr th {\n",
       "        vertical-align: top;\n",
       "    }\n",
       "\n",
       "    .dataframe thead th {\n",
       "        text-align: right;\n",
       "    }\n",
       "</style>\n",
       "<table border=\"1\" class=\"dataframe\">\n",
       "  <thead>\n",
       "    <tr style=\"text-align: right;\">\n",
       "      <th></th>\n",
       "      <th>SibSp</th>\n",
       "      <th>Parch</th>\n",
       "    </tr>\n",
       "    <tr>\n",
       "      <th>PassengerId</th>\n",
       "      <th></th>\n",
       "      <th></th>\n",
       "    </tr>\n",
       "  </thead>\n",
       "  <tbody>\n",
       "    <tr>\n",
       "      <td>1</td>\n",
       "      <td>1</td>\n",
       "      <td>0</td>\n",
       "    </tr>\n",
       "    <tr>\n",
       "      <td>2</td>\n",
       "      <td>1</td>\n",
       "      <td>0</td>\n",
       "    </tr>\n",
       "    <tr>\n",
       "      <td>3</td>\n",
       "      <td>0</td>\n",
       "      <td>0</td>\n",
       "    </tr>\n",
       "    <tr>\n",
       "      <td>4</td>\n",
       "      <td>1</td>\n",
       "      <td>0</td>\n",
       "    </tr>\n",
       "    <tr>\n",
       "      <td>5</td>\n",
       "      <td>0</td>\n",
       "      <td>0</td>\n",
       "    </tr>\n",
       "    <tr>\n",
       "      <td>...</td>\n",
       "      <td>...</td>\n",
       "      <td>...</td>\n",
       "    </tr>\n",
       "    <tr>\n",
       "      <td>887</td>\n",
       "      <td>0</td>\n",
       "      <td>0</td>\n",
       "    </tr>\n",
       "    <tr>\n",
       "      <td>888</td>\n",
       "      <td>0</td>\n",
       "      <td>0</td>\n",
       "    </tr>\n",
       "    <tr>\n",
       "      <td>889</td>\n",
       "      <td>1</td>\n",
       "      <td>2</td>\n",
       "    </tr>\n",
       "    <tr>\n",
       "      <td>890</td>\n",
       "      <td>0</td>\n",
       "      <td>0</td>\n",
       "    </tr>\n",
       "    <tr>\n",
       "      <td>891</td>\n",
       "      <td>0</td>\n",
       "      <td>0</td>\n",
       "    </tr>\n",
       "  </tbody>\n",
       "</table>\n",
       "<p>891 rows × 2 columns</p>\n",
       "</div>"
      ],
      "text/plain": [
       "             SibSp  Parch\n",
       "PassengerId              \n",
       "1                1      0\n",
       "2                1      0\n",
       "3                0      0\n",
       "4                1      0\n",
       "5                0      0\n",
       "...            ...    ...\n",
       "887              0      0\n",
       "888              0      0\n",
       "889              1      2\n",
       "890              0      0\n",
       "891              0      0\n",
       "\n",
       "[891 rows x 2 columns]"
      ]
     },
     "execution_count": 148,
     "metadata": {},
     "output_type": "execute_result"
    }
   ],
   "source": [
    "Titanic_df.groupby('PassengerId')['SibSp','Parch'].sum()"
   ]
  },
  {
   "cell_type": "markdown",
   "metadata": {},
   "source": [
    "__CatPlot__"
   ]
  },
  {
   "cell_type": "code",
   "execution_count": 195,
   "metadata": {},
   "outputs": [
    {
     "data": {
      "text/plain": [
       "<seaborn.axisgrid.FacetGrid at 0x28cb72f2748>"
      ]
     },
     "execution_count": 195,
     "metadata": {},
     "output_type": "execute_result"
    },
    {
     "data": {
      "image/png": "[encoded data removed]",
      "text/plain": [
       "<Figure size 360x360 with 1 Axes>"
      ]
     },
     "metadata": {
      "needs_background": "light"
     },
     "output_type": "display_data"
    }
   ],
   "source": [
    "sns.catplot(data=Titanic_df.groupby('PassengerId')['SibSp','Parch'].sum())"
   ]
  },
  {
   "cell_type": "markdown",
   "metadata": {},
   "source": [
    "here\n",
    "\n",
    "Sibsi represents --> Sibling and spouse \n",
    "\n",
    "Parch represents -- Parents and Children\n",
    "\n",
    "NUmber of Sibling and Spouse is more as compared to parents and children "
   ]
  },
  {
   "cell_type": "markdown",
   "metadata": {},
   "source": [
    "__PairPlot__"
   ]
  },
  {
   "cell_type": "code",
   "execution_count": 198,
   "metadata": {},
   "outputs": [
    {
     "data": {
      "text/plain": [
       "<seaborn.axisgrid.PairGrid at 0x28cbc80a308>"
      ]
     },
     "execution_count": 198,
     "metadata": {},
     "output_type": "execute_result"
    },
    {
     "data": {
      "image/png": "[encoded data removed]",
      "text/plain": [
       "<Figure size 1330.5x1260 with 56 Axes>"
      ]
     },
     "metadata": {
      "needs_background": "light"
     },
     "output_type": "display_data"
    }
   ],
   "source": [
    "sns.pairplot(data=Titanic_df,hue='Sex')"
   ]
  },
  {
   "cell_type": "markdown",
   "metadata": {},
   "source": [
    "__DistPlot__"
   ]
  },
  {
   "cell_type": "code",
   "execution_count": 202,
   "metadata": {},
   "outputs": [
    {
     "data": {
      "text/plain": [
       "<matplotlib.axes._subplots.AxesSubplot at 0x28cc07859c8>"
      ]
     },
     "execution_count": 202,
     "metadata": {},
     "output_type": "execute_result"
    },
    {
     "data": {
      "image/png": "[encoded data removed]",
      "text/plain": [
       "<Figure size 432x288 with 1 Axes>"
      ]
     },
     "metadata": {
      "needs_background": "light"
     },
     "output_type": "display_data"
    }
   ],
   "source": [
    "sns.distplot(Titanic_df['Age'])"
   ]
  },
  {
   "cell_type": "markdown",
   "metadata": {},
   "source": [
    "__Jointplot__"
   ]
  },
  {
   "cell_type": "code",
   "execution_count": 210,
   "metadata": {},
   "outputs": [
    {
     "data": {
      "image/png": "[encoded data removed]",
      "text/plain": [
       "<Figure size 432x432 with 3 Axes>"
      ]
     },
     "metadata": {
      "needs_background": "light"
     },
     "output_type": "display_data"
    }
   ],
   "source": [
    "sns.jointplot(x='Survived',y='Age',data=Titanic_df,kind='scatter');"
   ]
  },
  {
   "cell_type": "markdown",
   "metadata": {},
   "source": [
    "Explained above"
   ]
  },
  {
   "cell_type": "code",
   "execution_count": null,
   "metadata": {},
   "outputs": [],
   "source": []
  }
 ],
 "metadata": {
  "kernelspec": {
   "display_name": "Python 3",
   "language": "python",
   "name": "python3"
  },
  "language_info": {
   "codemirror_mode": {
    "name": "ipython",
    "version": 3
   },
   "file_extension": ".py",
   "mimetype": "text/x-python",
   "name": "python",
   "nbconvert_exporter": "python",
   "pygments_lexer": "ipython3",
   "version": "3.7.4"
  }
 },
 "nbformat": 4,
 "nbformat_minor": 2
}
