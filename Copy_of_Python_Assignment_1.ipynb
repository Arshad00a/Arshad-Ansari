{
  "nbformat": 4,
  "nbformat_minor": 0,
  "metadata": {
    "colab": {
      "name": "Copy of Python Assignment 1.ipynb",
      "provenance": [],
      "authorship_tag": "ABX9TyMQKKjPM7JmSZt5DTTxlzOH",
      "include_colab_link": true
    },
    "kernelspec": {
      "name": "python3",
      "display_name": "Python 3"
    }
  },
  "cells": [
    {
      "cell_type": "markdown",
      "metadata": {
        "id": "view-in-github",
        "colab_type": "text"
      },
      "source": [
        "<a href=\"https://colab.research.google.com/github/Arshad00a/Python-Assignment/blob/master/Copy_of_Python_Assignment_1.ipynb\" target=\"_parent\"><img src=\"https://colab.research.google.com/assets/colab-badge.svg\" alt=\"Open In Colab\"/></a>"
      ]
    },
    {
      "cell_type": "code",
      "metadata": {
        "id": "kid7Z4gGmaLG",
        "colab_type": "code",
        "outputId": "ee8999e7-e8b4-405b-da64-3c9321141343",
        "colab": {
          "base_uri": "https://localhost:8080/",
          "height": 306
        }
      },
      "source": [
        "import pandas as pd\n",
        "import numpy as np\n",
        "\n",
        "\n",
        "url = 'https://docs.google.com/spreadsheets/d/e/2PACX-1vTPqLOTtWjWnbPtQdTUq-CrGRnxiWRJ-Pfz2VAt8hxzPzS9E_plqoY6RbGXk8upHa2N6CM9RHkuq0N7/pub?output=xlsx'\n",
        "\n",
        "df1 = pd.read_excel(url)\n",
        "\n",
        "print(df1)\n",
        "\n",
        "print(df1.columns)\n",
        "\n",
        "# Overall Average tip\n",
        "# Average is nothing but mean\n",
        "print(\"priting overall Average(mean) of column tip\")\n",
        "df1['tip'].mean()"
      ],
      "execution_count": 0,
      "outputs": [
        {
          "output_type": "stream",
          "text": [
            "     total_bill   tip     sex smoker   day    time  size\n",
            "0         16.99  1.01  Female     No   Sun  Dinner     2\n",
            "1         10.34  1.66    Male     No   Sun  Dinner     3\n",
            "2         21.01  3.50    Male     No   Sun  Dinner     3\n",
            "3         23.68  3.31    Male     No   Sun  Dinner     2\n",
            "4         24.59  3.61  Female     No   Sun  Dinner     4\n",
            "..          ...   ...     ...    ...   ...     ...   ...\n",
            "239       29.03  5.92    Male     No   Sat  Dinner     3\n",
            "240       27.18  2.00  Female    Yes   Sat  Dinner     2\n",
            "241       22.67  2.00    Male    Yes   Sat  Dinner     2\n",
            "242       17.82  1.75    Male     No   Sat  Dinner     2\n",
            "243       18.78  3.00  Female     No  Thur  Dinner     2\n",
            "\n",
            "[244 rows x 7 columns]\n",
            "Index(['total_bill', 'tip', 'sex', 'smoker', 'day', 'time', 'size'], dtype='object')\n",
            "priting overall Average(mean) of column tip\n"
          ],
          "name": "stdout"
        },
        {
          "output_type": "execute_result",
          "data": {
            "text/plain": [
              "2.9982786885245902"
            ]
          },
          "metadata": {
            "tags": []
          },
          "execution_count": 2
        }
      ]
    },
    {
      "cell_type": "code",
      "metadata": {
        "id": "bgagXrFlmlil",
        "colab_type": "code",
        "outputId": "2b321b07-5867-488a-fca9-d14dc342d463",
        "colab": {
          "base_uri": "https://localhost:8080/",
          "height": 54
        }
      },
      "source": [
        "#Get a numberical value for tip  are the mean (Average) and median (Middle value) very different ? what does this field tell you about\n",
        "\n",
        "tip_mean=df1['tip'].mean()\n",
        "tip_median = df1['tip'].median()\n",
        "\n",
        "print(\"printing out mean of column tip : \" ,tip_mean)\n",
        "print(\"printing out median of column tip : \",tip_median)\n",
        "\n",
        "print(\"From the above Observation we know that the mean(Average) and median(middle value) is same for column tip\")\n",
        "print(\"from mean - we get to know that the Average tip a waiter or the person is getting\")\n",
        "print(\"from median - we get to know the middle value \")"
      ],
      "execution_count": 0,
      "outputs": [
        {
          "output_type": "stream",
          "text": [
            "printing out mean of column tip :  2.9982786885245902\n",
            "printing out median of column tip :  2.9\n"
          ],
          "name": "stdout"
        }
      ]
    },
    {
      "cell_type": "code",
      "metadata": {
        "id": "xF4C-FaBn2yr",
        "colab_type": "code",
        "outputId": "48b79a67-d0a6-4dd2-b606-5887e770ea25",
        "colab": {
          "base_uri": "https://localhost:8080/",
          "height": 299
        }
      },
      "source": [
        "#   Box Plot for  Total Bill\n",
        "\n",
        "import matplotlib.pyplot as plt\n",
        "plt.boxplot(df1['tip'])\n",
        "plt.title(\"Box Plot for Total Bill \")\n",
        "plt.ylabel(\"price in $\")\n",
        "plt.show()\n",
        "# Are there any Outliers \n",
        "print(\"Are there any Outliers : Yes there are outliers\")"
      ],
      "execution_count": 0,
      "outputs": [
        {
          "output_type": "display_data",
          "data": {
            "image/png": "[encoded data removed]",
            "text/plain": [
              "<Figure size 432x288 with 1 Axes>"
            ]
          },
          "metadata": {
            "tags": []
          }
        },
        {
          "output_type": "stream",
          "text": [
            "Are there any Outliers : Yes there are outliers\n"
          ],
          "name": "stdout"
        }
      ]
    },
    {
      "cell_type": "code",
      "metadata": {
        "id": "UwmrqvE-r4HF",
        "colab_type": "code",
        "outputId": "06d50877-0a2e-46f2-a192-59d9f56563b3",
        "colab": {
          "base_uri": "https://localhost:8080/",
          "height": 54
        }
      },
      "source": [
        "# what is the percentage of females in data\n",
        "df1['sex'].value_counts(normalize=True) * 100\n",
        "print(\"There are 35.665 % females in data\")\n"
      ],
      "execution_count": 0,
      "outputs": [
        {
          "output_type": "stream",
          "text": [
            "There are 35.665 % females in data\n",
            "ERROR! Session/line number was not unique in database. History logging moved to new session 60\n"
          ],
          "name": "stdout"
        }
      ]
    },
    {
      "cell_type": "code",
      "metadata": {
        "id": "yC4jjX-tswTq",
        "colab_type": "code",
        "outputId": "bba0f2a3-bdcf-485c-bf97-ad812586b63d",
        "colab": {
          "base_uri": "https://localhost:8080/",
          "height": 102
        }
      },
      "source": [
        "# Does the Average tip Differ by Gender \n",
        "\n",
        "print(df1.groupby('sex')['tip'].mean())\n",
        "print(\"Yes, The Average tip differ by genderr)"
      ],
      "execution_count": 0,
      "outputs": [
        {
          "output_type": "stream",
          "text": [
            "sex\n",
            "Female    2.833448\n",
            "Male      3.089618\n",
            "Name: tip, dtype: float64\n",
            "Yes, Male Gives more tip than Female\n"
          ],
          "name": "stdout"
        }
      ]
    },
    {
      "cell_type": "code",
      "metadata": {
        "id": "c2e6PMsA2w77",
        "colab_type": "code",
        "outputId": "89bf7b9e-4ca2-4a91-d5d6-6d3b88b0b29f",
        "colab": {
          "base_uri": "https://localhost:8080/",
          "height": 85
        }
      },
      "source": [
        "# Does the Aveargae tip differ by time\n",
        "print(df1.groupby('time')['tip'].mean())\n",
        "print(\"Yes, the Average tip differ by Time \")"
      ],
      "execution_count": 0,
      "outputs": [
        {
          "output_type": "stream",
          "text": [
            "time\n",
            "Dinner    3.102670\n",
            "Lunch     2.728088\n",
            "Name: tip, dtype: float64\n"
          ],
          "name": "stdout"
        }
      ]
    },
    {
      "cell_type": "code",
      "metadata": {
        "id": "PcJmMggL3FW8",
        "colab_type": "code",
        "outputId": "e6e4aa50-3752-4808-f0a8-7efd6453d64c",
        "colab": {
          "base_uri": "https://localhost:8080/",
          "height": 170
        }
      },
      "source": [
        "# Does the Aveerge tip differ by size (number of people)\n",
        "print(df1.groupby('size')['tip'].mean())\n",
        "print(\"Yes the Average tip differ by Size \")\n",
        "\n"
      ],
      "execution_count": 0,
      "outputs": [
        {
          "output_type": "stream",
          "text": [
            "size\n",
            "1    1.437500\n",
            "2    2.582308\n",
            "3    3.393158\n",
            "4    4.135405\n",
            "5    4.028000\n",
            "6    5.225000\n",
            "Name: tip, dtype: float64\n",
            "Yes the Average tip differ by Size \n"
          ],
          "name": "stdout"
        }
      ]
    },
    {
      "cell_type": "code",
      "metadata": {
        "id": "pIlGk8JZt73A",
        "colab_type": "code",
        "outputId": "62558bd5-eae3-4708-b57c-0e24c12e4069",
        "colab": {
          "base_uri": "https://localhost:8080/",
          "height": 394
        }
      },
      "source": [
        "#prepare a bar plot with bar representing the percentage of records for each gender\n",
        "\n",
        "M_F=df1['sex'].value_counts()\n",
        "print(M_F)\n",
        "df1['sex'].value_counts().plot(kind=\"bar\")\n",
        "plt.title(\"Number of male and female in resturant\")\n",
        "plt.xlabel(\"Gender\")"
      ],
      "execution_count": 0,
      "outputs": [
        {
          "output_type": "stream",
          "text": [
            "Male      157\n",
            "Female     87\n",
            "Name: sex, dtype: int64\n"
          ],
          "name": "stdout"
        },
        {
          "output_type": "execute_result",
          "data": {
            "text/plain": [
              "Text(0.5, 0, 'Gender')"
            ]
          },
          "metadata": {
            "tags": []
          },
          "execution_count": 52
        },
        {
          "output_type": "display_data",
          "data": {
            "image/png": "[encoded data removed]",
            "text/plain": [
              "<Figure size 432x288 with 1 Axes>"
            ]
          },
          "metadata": {
            "tags": []
          }
        }
      ]
    },
    {
      "cell_type": "code",
      "metadata": {
        "id": "llqGZ6ukrDv6",
        "colab_type": "code",
        "outputId": "86d6b596-8cfc-4407-8eed-0717bb8dc687",
        "colab": {
          "base_uri": "https://localhost:8080/",
          "height": 126
        }
      },
      "source": [
        "Tips_based_on_Time=df1.groupby('time')['tip'].sum()\n",
        "print(Tips_based_on_Time)\n",
        "print(\"\\n   Yes, people pay more tips during Dinner time as compared to lunch\")"
      ],
      "execution_count": 0,
      "outputs": [
        {
          "output_type": "stream",
          "text": [
            "time\n",
            "Dinner    546.07\n",
            "Lunch     185.51\n",
            "Name: tip, dtype: float64\n",
            "\n",
            "   Yes, people pay more tips during Dinner time as compared to lunch\n"
          ],
          "name": "stdout"
        }
      ]
    },
    {
      "cell_type": "code",
      "metadata": {
        "id": "3bo8HcKAyiKe",
        "colab_type": "code",
        "outputId": "1bdb8d16-5e8e-44e4-848a-556835d8e0fe",
        "colab": {
          "base_uri": "https://localhost:8080/",
          "height": 199
        }
      },
      "source": [
        "Tips_Based_on_Size=df1.groupby('size')['tip'].sum()\n",
        "print(Tips_Based_on_Size)\n",
        "print(\"\\n Yes, Tips differ by size \")"
      ],
      "execution_count": 0,
      "outputs": [
        {
          "output_type": "stream",
          "text": [
            "size\n",
            "1      5.75\n",
            "2    402.84\n",
            "3    128.94\n",
            "4    153.01\n",
            "5     20.14\n",
            "6     20.90\n",
            "Name: tip, dtype: float64\n",
            "\n",
            " Yes, Tips differ by size \n"
          ],
          "name": "stdout"
        }
      ]
    },
    {
      "cell_type": "code",
      "metadata": {
        "id": "_uHqcmHPzHw-",
        "colab_type": "code",
        "outputId": "640b21bc-771a-4cd7-da29-7c311313595d",
        "colab": {
          "base_uri": "https://localhost:8080/",
          "height": 126
        }
      },
      "source": [
        "Tips_Smokers=df1.groupby('smoker')['tip'].sum()\n",
        "print(Tips_Smokers)\n",
        "print(\"\\n Yes, Non Smoker pays more tips than smoker\")"
      ],
      "execution_count": 0,
      "outputs": [
        {
          "output_type": "stream",
          "text": [
            "smoker\n",
            "No     451.77\n",
            "Yes    279.81\n",
            "Name: tip, dtype: float64\n",
            "\n",
            " Yes, Non Smoker pays more tips than smoker\n"
          ],
          "name": "stdout"
        }
      ]
    },
    {
      "cell_type": "code",
      "metadata": {
        "id": "Ad6mly0_zvmz",
        "colab_type": "code",
        "outputId": "0eed4265-b3d1-4869-b734-687e642f7f38",
        "colab": {
          "base_uri": "https://localhost:8080/",
          "height": 353
        }
      },
      "source": [
        "# Gender VS Smoker/NonSmoker and tip size\n",
        "df1.groupby(['smoker','sex'])['tip'].sum().plot(kind=\"bar\")"
      ],
      "execution_count": 0,
      "outputs": [
        {
          "output_type": "execute_result",
          "data": {
            "text/plain": [
              "<matplotlib.axes._subplots.AxesSubplot at 0x7fab79b97518>"
            ]
          },
          "metadata": {
            "tags": []
          },
          "execution_count": 77
        },
        {
          "output_type": "display_data",
          "data": {
            "image/png": "[encoded data removed]",
            "text/plain": [
              "<Figure size 432x288 with 1 Axes>"
            ]
          },
          "metadata": {
            "tags": []
          }
        }
      ]
    },
    {
      "cell_type": "code",
      "metadata": {
        "id": "dCwbWAO-1Hhv",
        "colab_type": "code",
        "outputId": "64786966-0871-43cf-ed26-4f8b112dbeac",
        "colab": {
          "base_uri": "https://localhost:8080/",
          "height": 235
        }
      },
      "source": [
        "df1['pct_tip']=(df1['tip']/df1['total_bill'])*100\n",
        "print(pct_tip)"
      ],
      "execution_count": 0,
      "outputs": [
        {
          "output_type": "stream",
          "text": [
            "0       5.944673\n",
            "1      16.054159\n",
            "2      16.658734\n",
            "3      13.978041\n",
            "4      14.680765\n",
            "         ...    \n",
            "239    20.392697\n",
            "240     7.358352\n",
            "241     8.822232\n",
            "242     9.820426\n",
            "243    15.974441\n",
            "Length: 244, dtype: float64\n"
          ],
          "name": "stdout"
        }
      ]
    },
    {
      "cell_type": "code",
      "metadata": {
        "id": "_9XrZpP6BJvg",
        "colab_type": "code",
        "colab": {}
      },
      "source": [
        ""
      ],
      "execution_count": 0,
      "outputs": []
    },
    {
      "cell_type": "code",
      "metadata": {
        "id": "J6dyyWkt-ZeN",
        "colab_type": "code",
        "outputId": "03be5728-b545-4341-f9bf-d94d0cf40ffd",
        "colab": {
          "base_uri": "https://localhost:8080/",
          "height": 108
        }
      },
      "source": [
        "pct_tip_gender=df1.groupby('sex')['pct_tip'].sum()\n",
        "print(pct_tip_gender)\n",
        "print(\" \\n Yes pct_tip differ by gender\")\n"
      ],
      "execution_count": 0,
      "outputs": [
        {
          "output_type": "stream",
          "text": [
            "sex\n",
            "Female    1448.469406\n",
            "Male      2475.113588\n",
            "Name: pct_tip, dtype: float64\n",
            "Yes pct_tip differ by gender\n"
          ],
          "name": "stdout"
        }
      ]
    },
    {
      "cell_type": "code",
      "metadata": {
        "id": "DhEvK7id_2p8",
        "colab_type": "code",
        "outputId": "f8bbab40-6513-4fb3-fba9-788d2058a803",
        "colab": {
          "base_uri": "https://localhost:8080/",
          "height": 199
        }
      },
      "source": [
        "pct_tip_size=df1.groupby('size')['pct_tip'].sum()\n",
        "print(pct_tip_size)\n",
        "print(\"\\n yes, pct_tip differs by Size\")"
      ],
      "execution_count": 0,
      "outputs": [
        {
          "output_type": "stream",
          "text": [
            "size\n",
            "1      86.916806\n",
            "2    2585.219391\n",
            "3     578.196048\n",
            "4     540.011324\n",
            "5      70.747745\n",
            "6      62.491680\n",
            "Name: pct_tip, dtype: float64\n",
            "\n",
            " yes, pct_tip differs by Size\n"
          ],
          "name": "stdout"
        }
      ]
    },
    {
      "cell_type": "code",
      "metadata": {
        "id": "JkB49t-0BH53",
        "colab_type": "code",
        "outputId": "ea2be7fd-d3c9-42cb-c1dd-e27225436921",
        "colab": {
          "base_uri": "https://localhost:8080/",
          "height": 389
        }
      },
      "source": [
        "df1.groupby(['sex','smoker'])['pct_tip'].sum().plot(kind=\"bar\")\n",
        "print(\"\\n \\n No, Pct-tip is just a percentage of tip it is same as that of tip but only in percentage, My inference does not change\")\n"
      ],
      "execution_count": 0,
      "outputs": [
        {
          "output_type": "stream",
          "text": [
            "\n",
            " \n",
            " No, Pct-tip is just a percentage of tip it is same as that of tip but only in percentage, My inference does not change\n"
          ],
          "name": "stdout"
        },
        {
          "output_type": "display_data",
          "data": {
            "image/png": "[encoded data removed]",
            "text/plain": [
              "<Figure size 432x288 with 1 Axes>"
            ]
          },
          "metadata": {
            "tags": []
          }
        }
      ]
    },
    {
      "cell_type": "code",
      "metadata": {
        "id": "VfRYuS0oBtsj",
        "colab_type": "code",
        "outputId": "529c82a6-2f3b-4dc6-8507-903c18c9e774",
        "colab": {
          "base_uri": "https://localhost:8080/",
          "height": 501
        }
      },
      "source": [
        " # Scatter plot of total_bil vs Tip\n",
        " plt.scatter(df1['total_bill'],df1['tip'],c='g')\n",
        " print(df1.groupby('total_bill')['tip'].value_counts())"
      ],
      "execution_count": 0,
      "outputs": [
        {
          "output_type": "stream",
          "text": [
            "total_bill  tip  \n",
            "3.07        1.00     1\n",
            "5.75        1.00     1\n",
            "7.25        1.00     1\n",
            "            5.15     1\n",
            "7.51        2.00     1\n",
            "                    ..\n",
            "45.35       3.50     1\n",
            "48.17       5.00     1\n",
            "48.27       6.73     1\n",
            "48.33       9.00     1\n",
            "50.81       10.00    1\n",
            "Name: tip, Length: 242, dtype: int64\n"
          ],
          "name": "stdout"
        },
        {
          "output_type": "display_data",
          "data": {
            "image/png": "[encoded data removed]",
            "text/plain": [
              "<Figure size 432x288 with 1 Axes>"
            ]
          },
          "metadata": {
            "tags": []
          }
        }
      ]
    },
    {
      "cell_type": "code",
      "metadata": {
        "id": "yt1Zo2CaCjPG",
        "colab_type": "code",
        "outputId": "8974641d-2a36-447a-b028-a5e5034aef62",
        "colab": {
          "base_uri": "https://localhost:8080/",
          "height": 501
        }
      },
      "source": [
        "# scattter plot of total bill vs Pct_tip\n",
        "plt.scatter(df1['total_bill'],df1['pct_tip'],c='b')\n",
        "print(df1.groupby('total_bill')['pct_tip'].value_counts())"
      ],
      "execution_count": 0,
      "outputs": [
        {
          "output_type": "stream",
          "text": [
            "total_bill  pct_tip  \n",
            "3.07        32.573290    1\n",
            "5.75        17.391304    1\n",
            "7.25        13.793103    1\n",
            "            71.034483    1\n",
            "7.51        26.631158    1\n",
            "                        ..\n",
            "45.35       7.717751     1\n",
            "48.17       10.379905    1\n",
            "48.27       13.942407    1\n",
            "48.33       18.621974    1\n",
            "50.81       19.681165    1\n",
            "Name: pct_tip, Length: 242, dtype: int64\n"
          ],
          "name": "stdout"
        },
        {
          "output_type": "display_data",
          "data": {
            "image/png": "[encoded data removed]",
            "text/plain": [
              "<Figure size 432x288 with 1 Axes>"
            ]
          },
          "metadata": {
            "tags": []
          }
        }
      ]
    },
    {
      "cell_type": "code",
      "metadata": {
        "id": "GRixiZnVDt_c",
        "colab_type": "code",
        "colab": {}
      },
      "source": [
        ""
      ],
      "execution_count": 0,
      "outputs": []
    }
  ]
}